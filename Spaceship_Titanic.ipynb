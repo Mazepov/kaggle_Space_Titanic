{
  "nbformat": 4,
  "nbformat_minor": 0,
  "metadata": {
    "colab": {
      "name": "Spaceship_Titanic.ipynb",
      "provenance": []
    },
    "kernelspec": {
      "name": "python3",
      "display_name": "Python 3"
    },
    "language_info": {
      "name": "python"
    }
  },
  "cells": [
    {
      "cell_type": "markdown",
      "source": [
        "#Библиотеки"
      ],
      "metadata": {
        "id": "2t2CUqCN3Sh2"
      }
    },
    {
      "cell_type": "code",
      "execution_count": 554,
      "metadata": {
        "id": "sM6d5wsZ3Jh1"
      },
      "outputs": [],
      "source": [
        "import numpy as np\n",
        "import pandas as pd\n",
        "import matplotlib.pyplot as plt\n",
        "\n",
        "import seaborn as sns"
      ]
    },
    {
      "cell_type": "markdown",
      "source": [
        "#Загружаем данные"
      ],
      "metadata": {
        "id": "9giBzPam3Xdd"
      }
    },
    {
      "cell_type": "code",
      "source": [
        "train_df = pd.read_csv('train.csv')\n",
        "\n",
        "test_df = pd.read_csv('test.csv')"
      ],
      "metadata": {
        "id": "LCqFjHx43X4F"
      },
      "execution_count": 555,
      "outputs": []
    },
    {
      "cell_type": "code",
      "source": [
        "print(f'train shape - {train_df.shape}', '\\n', f'test shape - {test_df.shape}')"
      ],
      "metadata": {
        "colab": {
          "base_uri": "https://localhost:8080/"
        },
        "id": "i7NlyGDD9Wlk",
        "outputId": "bc296573-7fd9-4072-9668-76ff3bbfb97a"
      },
      "execution_count": 556,
      "outputs": [
        {
          "output_type": "stream",
          "name": "stdout",
          "text": [
            "train shape - (8693, 14) \n",
            " test shape - (4277, 13)\n"
          ]
        }
      ]
    },
    {
      "cell_type": "code",
      "source": [
        "#Функция для описания датасета\n",
        "\n",
        "def info_df(df):\n",
        "  info_df = pd.DataFrame()\n",
        "  info_df['Columns'] = df.columns\n",
        "  info_df['Null'] = list(df.isnull().sum())\n",
        "  info_df['Unique'] = list(df.nunique())\n",
        "  info_df['Type'] = list(df.dtypes)\n",
        "\n",
        "  return info_df"
      ],
      "metadata": {
        "id": "iPcB0iUt-Mi9"
      },
      "execution_count": 557,
      "outputs": []
    },
    {
      "cell_type": "markdown",
      "source": [
        "## train"
      ],
      "metadata": {
        "id": "q4h8EOac9Lb9"
      }
    },
    {
      "cell_type": "code",
      "source": [
        "train_df.head()"
      ],
      "metadata": {
        "colab": {
          "base_uri": "https://localhost:8080/",
          "height": 206
        },
        "id": "BL1muj444MLv",
        "outputId": "45051f56-2afe-448b-c209-106560ab4e97"
      },
      "execution_count": 558,
      "outputs": [
        {
          "output_type": "execute_result",
          "data": {
            "text/plain": [
              "  PassengerId HomePlanet CryoSleep  Cabin  Destination   Age    VIP  \\\n",
              "0     0001_01     Europa     False  B/0/P  TRAPPIST-1e  39.0  False   \n",
              "1     0002_01      Earth     False  F/0/S  TRAPPIST-1e  24.0  False   \n",
              "2     0003_01     Europa     False  A/0/S  TRAPPIST-1e  58.0   True   \n",
              "3     0003_02     Europa     False  A/0/S  TRAPPIST-1e  33.0  False   \n",
              "4     0004_01      Earth     False  F/1/S  TRAPPIST-1e  16.0  False   \n",
              "\n",
              "   RoomService  FoodCourt  ShoppingMall     Spa  VRDeck               Name  \\\n",
              "0          0.0        0.0           0.0     0.0     0.0    Maham Ofracculy   \n",
              "1        109.0        9.0          25.0   549.0    44.0       Juanna Vines   \n",
              "2         43.0     3576.0           0.0  6715.0    49.0      Altark Susent   \n",
              "3          0.0     1283.0         371.0  3329.0   193.0       Solam Susent   \n",
              "4        303.0       70.0         151.0   565.0     2.0  Willy Santantines   \n",
              "\n",
              "   Transported  \n",
              "0        False  \n",
              "1         True  \n",
              "2        False  \n",
              "3        False  \n",
              "4         True  "
            ],
            "text/html": [
              "\n",
              "  <div id=\"df-b861ebfd-fd00-46bf-975f-92c335f60767\">\n",
              "    <div class=\"colab-df-container\">\n",
              "      <div>\n",
              "<style scoped>\n",
              "    .dataframe tbody tr th:only-of-type {\n",
              "        vertical-align: middle;\n",
              "    }\n",
              "\n",
              "    .dataframe tbody tr th {\n",
              "        vertical-align: top;\n",
              "    }\n",
              "\n",
              "    .dataframe thead th {\n",
              "        text-align: right;\n",
              "    }\n",
              "</style>\n",
              "<table border=\"1\" class=\"dataframe\">\n",
              "  <thead>\n",
              "    <tr style=\"text-align: right;\">\n",
              "      <th></th>\n",
              "      <th>PassengerId</th>\n",
              "      <th>HomePlanet</th>\n",
              "      <th>CryoSleep</th>\n",
              "      <th>Cabin</th>\n",
              "      <th>Destination</th>\n",
              "      <th>Age</th>\n",
              "      <th>VIP</th>\n",
              "      <th>RoomService</th>\n",
              "      <th>FoodCourt</th>\n",
              "      <th>ShoppingMall</th>\n",
              "      <th>Spa</th>\n",
              "      <th>VRDeck</th>\n",
              "      <th>Name</th>\n",
              "      <th>Transported</th>\n",
              "    </tr>\n",
              "  </thead>\n",
              "  <tbody>\n",
              "    <tr>\n",
              "      <th>0</th>\n",
              "      <td>0001_01</td>\n",
              "      <td>Europa</td>\n",
              "      <td>False</td>\n",
              "      <td>B/0/P</td>\n",
              "      <td>TRAPPIST-1e</td>\n",
              "      <td>39.0</td>\n",
              "      <td>False</td>\n",
              "      <td>0.0</td>\n",
              "      <td>0.0</td>\n",
              "      <td>0.0</td>\n",
              "      <td>0.0</td>\n",
              "      <td>0.0</td>\n",
              "      <td>Maham Ofracculy</td>\n",
              "      <td>False</td>\n",
              "    </tr>\n",
              "    <tr>\n",
              "      <th>1</th>\n",
              "      <td>0002_01</td>\n",
              "      <td>Earth</td>\n",
              "      <td>False</td>\n",
              "      <td>F/0/S</td>\n",
              "      <td>TRAPPIST-1e</td>\n",
              "      <td>24.0</td>\n",
              "      <td>False</td>\n",
              "      <td>109.0</td>\n",
              "      <td>9.0</td>\n",
              "      <td>25.0</td>\n",
              "      <td>549.0</td>\n",
              "      <td>44.0</td>\n",
              "      <td>Juanna Vines</td>\n",
              "      <td>True</td>\n",
              "    </tr>\n",
              "    <tr>\n",
              "      <th>2</th>\n",
              "      <td>0003_01</td>\n",
              "      <td>Europa</td>\n",
              "      <td>False</td>\n",
              "      <td>A/0/S</td>\n",
              "      <td>TRAPPIST-1e</td>\n",
              "      <td>58.0</td>\n",
              "      <td>True</td>\n",
              "      <td>43.0</td>\n",
              "      <td>3576.0</td>\n",
              "      <td>0.0</td>\n",
              "      <td>6715.0</td>\n",
              "      <td>49.0</td>\n",
              "      <td>Altark Susent</td>\n",
              "      <td>False</td>\n",
              "    </tr>\n",
              "    <tr>\n",
              "      <th>3</th>\n",
              "      <td>0003_02</td>\n",
              "      <td>Europa</td>\n",
              "      <td>False</td>\n",
              "      <td>A/0/S</td>\n",
              "      <td>TRAPPIST-1e</td>\n",
              "      <td>33.0</td>\n",
              "      <td>False</td>\n",
              "      <td>0.0</td>\n",
              "      <td>1283.0</td>\n",
              "      <td>371.0</td>\n",
              "      <td>3329.0</td>\n",
              "      <td>193.0</td>\n",
              "      <td>Solam Susent</td>\n",
              "      <td>False</td>\n",
              "    </tr>\n",
              "    <tr>\n",
              "      <th>4</th>\n",
              "      <td>0004_01</td>\n",
              "      <td>Earth</td>\n",
              "      <td>False</td>\n",
              "      <td>F/1/S</td>\n",
              "      <td>TRAPPIST-1e</td>\n",
              "      <td>16.0</td>\n",
              "      <td>False</td>\n",
              "      <td>303.0</td>\n",
              "      <td>70.0</td>\n",
              "      <td>151.0</td>\n",
              "      <td>565.0</td>\n",
              "      <td>2.0</td>\n",
              "      <td>Willy Santantines</td>\n",
              "      <td>True</td>\n",
              "    </tr>\n",
              "  </tbody>\n",
              "</table>\n",
              "</div>\n",
              "      <button class=\"colab-df-convert\" onclick=\"convertToInteractive('df-b861ebfd-fd00-46bf-975f-92c335f60767')\"\n",
              "              title=\"Convert this dataframe to an interactive table.\"\n",
              "              style=\"display:none;\">\n",
              "        \n",
              "  <svg xmlns=\"http://www.w3.org/2000/svg\" height=\"24px\"viewBox=\"0 0 24 24\"\n",
              "       width=\"24px\">\n",
              "    <path d=\"M0 0h24v24H0V0z\" fill=\"none\"/>\n",
              "    <path d=\"M18.56 5.44l.94 2.06.94-2.06 2.06-.94-2.06-.94-.94-2.06-.94 2.06-2.06.94zm-11 1L8.5 8.5l.94-2.06 2.06-.94-2.06-.94L8.5 2.5l-.94 2.06-2.06.94zm10 10l.94 2.06.94-2.06 2.06-.94-2.06-.94-.94-2.06-.94 2.06-2.06.94z\"/><path d=\"M17.41 7.96l-1.37-1.37c-.4-.4-.92-.59-1.43-.59-.52 0-1.04.2-1.43.59L10.3 9.45l-7.72 7.72c-.78.78-.78 2.05 0 2.83L4 21.41c.39.39.9.59 1.41.59.51 0 1.02-.2 1.41-.59l7.78-7.78 2.81-2.81c.8-.78.8-2.07 0-2.86zM5.41 20L4 18.59l7.72-7.72 1.47 1.35L5.41 20z\"/>\n",
              "  </svg>\n",
              "      </button>\n",
              "      \n",
              "  <style>\n",
              "    .colab-df-container {\n",
              "      display:flex;\n",
              "      flex-wrap:wrap;\n",
              "      gap: 12px;\n",
              "    }\n",
              "\n",
              "    .colab-df-convert {\n",
              "      background-color: #E8F0FE;\n",
              "      border: none;\n",
              "      border-radius: 50%;\n",
              "      cursor: pointer;\n",
              "      display: none;\n",
              "      fill: #1967D2;\n",
              "      height: 32px;\n",
              "      padding: 0 0 0 0;\n",
              "      width: 32px;\n",
              "    }\n",
              "\n",
              "    .colab-df-convert:hover {\n",
              "      background-color: #E2EBFA;\n",
              "      box-shadow: 0px 1px 2px rgba(60, 64, 67, 0.3), 0px 1px 3px 1px rgba(60, 64, 67, 0.15);\n",
              "      fill: #174EA6;\n",
              "    }\n",
              "\n",
              "    [theme=dark] .colab-df-convert {\n",
              "      background-color: #3B4455;\n",
              "      fill: #D2E3FC;\n",
              "    }\n",
              "\n",
              "    [theme=dark] .colab-df-convert:hover {\n",
              "      background-color: #434B5C;\n",
              "      box-shadow: 0px 1px 3px 1px rgba(0, 0, 0, 0.15);\n",
              "      filter: drop-shadow(0px 1px 2px rgba(0, 0, 0, 0.3));\n",
              "      fill: #FFFFFF;\n",
              "    }\n",
              "  </style>\n",
              "\n",
              "      <script>\n",
              "        const buttonEl =\n",
              "          document.querySelector('#df-b861ebfd-fd00-46bf-975f-92c335f60767 button.colab-df-convert');\n",
              "        buttonEl.style.display =\n",
              "          google.colab.kernel.accessAllowed ? 'block' : 'none';\n",
              "\n",
              "        async function convertToInteractive(key) {\n",
              "          const element = document.querySelector('#df-b861ebfd-fd00-46bf-975f-92c335f60767');\n",
              "          const dataTable =\n",
              "            await google.colab.kernel.invokeFunction('convertToInteractive',\n",
              "                                                     [key], {});\n",
              "          if (!dataTable) return;\n",
              "\n",
              "          const docLinkHtml = 'Like what you see? Visit the ' +\n",
              "            '<a target=\"_blank\" href=https://colab.research.google.com/notebooks/data_table.ipynb>data table notebook</a>'\n",
              "            + ' to learn more about interactive tables.';\n",
              "          element.innerHTML = '';\n",
              "          dataTable['output_type'] = 'display_data';\n",
              "          await google.colab.output.renderOutput(dataTable, element);\n",
              "          const docLink = document.createElement('div');\n",
              "          docLink.innerHTML = docLinkHtml;\n",
              "          element.appendChild(docLink);\n",
              "        }\n",
              "      </script>\n",
              "    </div>\n",
              "  </div>\n",
              "  "
            ]
          },
          "metadata": {},
          "execution_count": 558
        }
      ]
    },
    {
      "cell_type": "code",
      "source": [
        "info_df(train_df)"
      ],
      "metadata": {
        "colab": {
          "base_uri": "https://localhost:8080/",
          "height": 488
        },
        "id": "oITJEzL446F1",
        "outputId": "622ba0c4-2736-4d0a-bbee-5249539ef2cc"
      },
      "execution_count": 559,
      "outputs": [
        {
          "output_type": "execute_result",
          "data": {
            "text/plain": [
              "         Columns  Null  Unique     Type\n",
              "0    PassengerId     0    8693   object\n",
              "1     HomePlanet   201       3   object\n",
              "2      CryoSleep   217       2   object\n",
              "3          Cabin   199    6560   object\n",
              "4    Destination   182       3   object\n",
              "5            Age   179      80  float64\n",
              "6            VIP   203       2   object\n",
              "7    RoomService   181    1273  float64\n",
              "8      FoodCourt   183    1507  float64\n",
              "9   ShoppingMall   208    1115  float64\n",
              "10           Spa   183    1327  float64\n",
              "11        VRDeck   188    1306  float64\n",
              "12          Name   200    8473   object\n",
              "13   Transported     0       2     bool"
            ],
            "text/html": [
              "\n",
              "  <div id=\"df-ddaf355f-3468-4546-91af-07a4731f1326\">\n",
              "    <div class=\"colab-df-container\">\n",
              "      <div>\n",
              "<style scoped>\n",
              "    .dataframe tbody tr th:only-of-type {\n",
              "        vertical-align: middle;\n",
              "    }\n",
              "\n",
              "    .dataframe tbody tr th {\n",
              "        vertical-align: top;\n",
              "    }\n",
              "\n",
              "    .dataframe thead th {\n",
              "        text-align: right;\n",
              "    }\n",
              "</style>\n",
              "<table border=\"1\" class=\"dataframe\">\n",
              "  <thead>\n",
              "    <tr style=\"text-align: right;\">\n",
              "      <th></th>\n",
              "      <th>Columns</th>\n",
              "      <th>Null</th>\n",
              "      <th>Unique</th>\n",
              "      <th>Type</th>\n",
              "    </tr>\n",
              "  </thead>\n",
              "  <tbody>\n",
              "    <tr>\n",
              "      <th>0</th>\n",
              "      <td>PassengerId</td>\n",
              "      <td>0</td>\n",
              "      <td>8693</td>\n",
              "      <td>object</td>\n",
              "    </tr>\n",
              "    <tr>\n",
              "      <th>1</th>\n",
              "      <td>HomePlanet</td>\n",
              "      <td>201</td>\n",
              "      <td>3</td>\n",
              "      <td>object</td>\n",
              "    </tr>\n",
              "    <tr>\n",
              "      <th>2</th>\n",
              "      <td>CryoSleep</td>\n",
              "      <td>217</td>\n",
              "      <td>2</td>\n",
              "      <td>object</td>\n",
              "    </tr>\n",
              "    <tr>\n",
              "      <th>3</th>\n",
              "      <td>Cabin</td>\n",
              "      <td>199</td>\n",
              "      <td>6560</td>\n",
              "      <td>object</td>\n",
              "    </tr>\n",
              "    <tr>\n",
              "      <th>4</th>\n",
              "      <td>Destination</td>\n",
              "      <td>182</td>\n",
              "      <td>3</td>\n",
              "      <td>object</td>\n",
              "    </tr>\n",
              "    <tr>\n",
              "      <th>5</th>\n",
              "      <td>Age</td>\n",
              "      <td>179</td>\n",
              "      <td>80</td>\n",
              "      <td>float64</td>\n",
              "    </tr>\n",
              "    <tr>\n",
              "      <th>6</th>\n",
              "      <td>VIP</td>\n",
              "      <td>203</td>\n",
              "      <td>2</td>\n",
              "      <td>object</td>\n",
              "    </tr>\n",
              "    <tr>\n",
              "      <th>7</th>\n",
              "      <td>RoomService</td>\n",
              "      <td>181</td>\n",
              "      <td>1273</td>\n",
              "      <td>float64</td>\n",
              "    </tr>\n",
              "    <tr>\n",
              "      <th>8</th>\n",
              "      <td>FoodCourt</td>\n",
              "      <td>183</td>\n",
              "      <td>1507</td>\n",
              "      <td>float64</td>\n",
              "    </tr>\n",
              "    <tr>\n",
              "      <th>9</th>\n",
              "      <td>ShoppingMall</td>\n",
              "      <td>208</td>\n",
              "      <td>1115</td>\n",
              "      <td>float64</td>\n",
              "    </tr>\n",
              "    <tr>\n",
              "      <th>10</th>\n",
              "      <td>Spa</td>\n",
              "      <td>183</td>\n",
              "      <td>1327</td>\n",
              "      <td>float64</td>\n",
              "    </tr>\n",
              "    <tr>\n",
              "      <th>11</th>\n",
              "      <td>VRDeck</td>\n",
              "      <td>188</td>\n",
              "      <td>1306</td>\n",
              "      <td>float64</td>\n",
              "    </tr>\n",
              "    <tr>\n",
              "      <th>12</th>\n",
              "      <td>Name</td>\n",
              "      <td>200</td>\n",
              "      <td>8473</td>\n",
              "      <td>object</td>\n",
              "    </tr>\n",
              "    <tr>\n",
              "      <th>13</th>\n",
              "      <td>Transported</td>\n",
              "      <td>0</td>\n",
              "      <td>2</td>\n",
              "      <td>bool</td>\n",
              "    </tr>\n",
              "  </tbody>\n",
              "</table>\n",
              "</div>\n",
              "      <button class=\"colab-df-convert\" onclick=\"convertToInteractive('df-ddaf355f-3468-4546-91af-07a4731f1326')\"\n",
              "              title=\"Convert this dataframe to an interactive table.\"\n",
              "              style=\"display:none;\">\n",
              "        \n",
              "  <svg xmlns=\"http://www.w3.org/2000/svg\" height=\"24px\"viewBox=\"0 0 24 24\"\n",
              "       width=\"24px\">\n",
              "    <path d=\"M0 0h24v24H0V0z\" fill=\"none\"/>\n",
              "    <path d=\"M18.56 5.44l.94 2.06.94-2.06 2.06-.94-2.06-.94-.94-2.06-.94 2.06-2.06.94zm-11 1L8.5 8.5l.94-2.06 2.06-.94-2.06-.94L8.5 2.5l-.94 2.06-2.06.94zm10 10l.94 2.06.94-2.06 2.06-.94-2.06-.94-.94-2.06-.94 2.06-2.06.94z\"/><path d=\"M17.41 7.96l-1.37-1.37c-.4-.4-.92-.59-1.43-.59-.52 0-1.04.2-1.43.59L10.3 9.45l-7.72 7.72c-.78.78-.78 2.05 0 2.83L4 21.41c.39.39.9.59 1.41.59.51 0 1.02-.2 1.41-.59l7.78-7.78 2.81-2.81c.8-.78.8-2.07 0-2.86zM5.41 20L4 18.59l7.72-7.72 1.47 1.35L5.41 20z\"/>\n",
              "  </svg>\n",
              "      </button>\n",
              "      \n",
              "  <style>\n",
              "    .colab-df-container {\n",
              "      display:flex;\n",
              "      flex-wrap:wrap;\n",
              "      gap: 12px;\n",
              "    }\n",
              "\n",
              "    .colab-df-convert {\n",
              "      background-color: #E8F0FE;\n",
              "      border: none;\n",
              "      border-radius: 50%;\n",
              "      cursor: pointer;\n",
              "      display: none;\n",
              "      fill: #1967D2;\n",
              "      height: 32px;\n",
              "      padding: 0 0 0 0;\n",
              "      width: 32px;\n",
              "    }\n",
              "\n",
              "    .colab-df-convert:hover {\n",
              "      background-color: #E2EBFA;\n",
              "      box-shadow: 0px 1px 2px rgba(60, 64, 67, 0.3), 0px 1px 3px 1px rgba(60, 64, 67, 0.15);\n",
              "      fill: #174EA6;\n",
              "    }\n",
              "\n",
              "    [theme=dark] .colab-df-convert {\n",
              "      background-color: #3B4455;\n",
              "      fill: #D2E3FC;\n",
              "    }\n",
              "\n",
              "    [theme=dark] .colab-df-convert:hover {\n",
              "      background-color: #434B5C;\n",
              "      box-shadow: 0px 1px 3px 1px rgba(0, 0, 0, 0.15);\n",
              "      filter: drop-shadow(0px 1px 2px rgba(0, 0, 0, 0.3));\n",
              "      fill: #FFFFFF;\n",
              "    }\n",
              "  </style>\n",
              "\n",
              "      <script>\n",
              "        const buttonEl =\n",
              "          document.querySelector('#df-ddaf355f-3468-4546-91af-07a4731f1326 button.colab-df-convert');\n",
              "        buttonEl.style.display =\n",
              "          google.colab.kernel.accessAllowed ? 'block' : 'none';\n",
              "\n",
              "        async function convertToInteractive(key) {\n",
              "          const element = document.querySelector('#df-ddaf355f-3468-4546-91af-07a4731f1326');\n",
              "          const dataTable =\n",
              "            await google.colab.kernel.invokeFunction('convertToInteractive',\n",
              "                                                     [key], {});\n",
              "          if (!dataTable) return;\n",
              "\n",
              "          const docLinkHtml = 'Like what you see? Visit the ' +\n",
              "            '<a target=\"_blank\" href=https://colab.research.google.com/notebooks/data_table.ipynb>data table notebook</a>'\n",
              "            + ' to learn more about interactive tables.';\n",
              "          element.innerHTML = '';\n",
              "          dataTable['output_type'] = 'display_data';\n",
              "          await google.colab.output.renderOutput(dataTable, element);\n",
              "          const docLink = document.createElement('div');\n",
              "          docLink.innerHTML = docLinkHtml;\n",
              "          element.appendChild(docLink);\n",
              "        }\n",
              "      </script>\n",
              "    </div>\n",
              "  </div>\n",
              "  "
            ]
          },
          "metadata": {},
          "execution_count": 559
        }
      ]
    },
    {
      "cell_type": "markdown",
      "source": [
        "## test"
      ],
      "metadata": {
        "id": "X04yaNDn9Pv1"
      }
    },
    {
      "cell_type": "code",
      "source": [
        "test_df.head()"
      ],
      "metadata": {
        "colab": {
          "base_uri": "https://localhost:8080/",
          "height": 206
        },
        "id": "mClxyY3K9Ren",
        "outputId": "d1e8816f-537a-4a72-bacf-363e5cf2a638"
      },
      "execution_count": 560,
      "outputs": [
        {
          "output_type": "execute_result",
          "data": {
            "text/plain": [
              "  PassengerId HomePlanet CryoSleep  Cabin  Destination   Age    VIP  \\\n",
              "0     0013_01      Earth      True  G/3/S  TRAPPIST-1e  27.0  False   \n",
              "1     0018_01      Earth     False  F/4/S  TRAPPIST-1e  19.0  False   \n",
              "2     0019_01     Europa      True  C/0/S  55 Cancri e  31.0  False   \n",
              "3     0021_01     Europa     False  C/1/S  TRAPPIST-1e  38.0  False   \n",
              "4     0023_01      Earth     False  F/5/S  TRAPPIST-1e  20.0  False   \n",
              "\n",
              "   RoomService  FoodCourt  ShoppingMall     Spa  VRDeck              Name  \n",
              "0          0.0        0.0           0.0     0.0     0.0   Nelly Carsoning  \n",
              "1          0.0        9.0           0.0  2823.0     0.0    Lerome Peckers  \n",
              "2          0.0        0.0           0.0     0.0     0.0   Sabih Unhearfus  \n",
              "3          0.0     6652.0           0.0   181.0   585.0  Meratz Caltilter  \n",
              "4         10.0        0.0         635.0     0.0     0.0   Brence Harperez  "
            ],
            "text/html": [
              "\n",
              "  <div id=\"df-c9947a6d-65cc-4445-9137-7ffed9259662\">\n",
              "    <div class=\"colab-df-container\">\n",
              "      <div>\n",
              "<style scoped>\n",
              "    .dataframe tbody tr th:only-of-type {\n",
              "        vertical-align: middle;\n",
              "    }\n",
              "\n",
              "    .dataframe tbody tr th {\n",
              "        vertical-align: top;\n",
              "    }\n",
              "\n",
              "    .dataframe thead th {\n",
              "        text-align: right;\n",
              "    }\n",
              "</style>\n",
              "<table border=\"1\" class=\"dataframe\">\n",
              "  <thead>\n",
              "    <tr style=\"text-align: right;\">\n",
              "      <th></th>\n",
              "      <th>PassengerId</th>\n",
              "      <th>HomePlanet</th>\n",
              "      <th>CryoSleep</th>\n",
              "      <th>Cabin</th>\n",
              "      <th>Destination</th>\n",
              "      <th>Age</th>\n",
              "      <th>VIP</th>\n",
              "      <th>RoomService</th>\n",
              "      <th>FoodCourt</th>\n",
              "      <th>ShoppingMall</th>\n",
              "      <th>Spa</th>\n",
              "      <th>VRDeck</th>\n",
              "      <th>Name</th>\n",
              "    </tr>\n",
              "  </thead>\n",
              "  <tbody>\n",
              "    <tr>\n",
              "      <th>0</th>\n",
              "      <td>0013_01</td>\n",
              "      <td>Earth</td>\n",
              "      <td>True</td>\n",
              "      <td>G/3/S</td>\n",
              "      <td>TRAPPIST-1e</td>\n",
              "      <td>27.0</td>\n",
              "      <td>False</td>\n",
              "      <td>0.0</td>\n",
              "      <td>0.0</td>\n",
              "      <td>0.0</td>\n",
              "      <td>0.0</td>\n",
              "      <td>0.0</td>\n",
              "      <td>Nelly Carsoning</td>\n",
              "    </tr>\n",
              "    <tr>\n",
              "      <th>1</th>\n",
              "      <td>0018_01</td>\n",
              "      <td>Earth</td>\n",
              "      <td>False</td>\n",
              "      <td>F/4/S</td>\n",
              "      <td>TRAPPIST-1e</td>\n",
              "      <td>19.0</td>\n",
              "      <td>False</td>\n",
              "      <td>0.0</td>\n",
              "      <td>9.0</td>\n",
              "      <td>0.0</td>\n",
              "      <td>2823.0</td>\n",
              "      <td>0.0</td>\n",
              "      <td>Lerome Peckers</td>\n",
              "    </tr>\n",
              "    <tr>\n",
              "      <th>2</th>\n",
              "      <td>0019_01</td>\n",
              "      <td>Europa</td>\n",
              "      <td>True</td>\n",
              "      <td>C/0/S</td>\n",
              "      <td>55 Cancri e</td>\n",
              "      <td>31.0</td>\n",
              "      <td>False</td>\n",
              "      <td>0.0</td>\n",
              "      <td>0.0</td>\n",
              "      <td>0.0</td>\n",
              "      <td>0.0</td>\n",
              "      <td>0.0</td>\n",
              "      <td>Sabih Unhearfus</td>\n",
              "    </tr>\n",
              "    <tr>\n",
              "      <th>3</th>\n",
              "      <td>0021_01</td>\n",
              "      <td>Europa</td>\n",
              "      <td>False</td>\n",
              "      <td>C/1/S</td>\n",
              "      <td>TRAPPIST-1e</td>\n",
              "      <td>38.0</td>\n",
              "      <td>False</td>\n",
              "      <td>0.0</td>\n",
              "      <td>6652.0</td>\n",
              "      <td>0.0</td>\n",
              "      <td>181.0</td>\n",
              "      <td>585.0</td>\n",
              "      <td>Meratz Caltilter</td>\n",
              "    </tr>\n",
              "    <tr>\n",
              "      <th>4</th>\n",
              "      <td>0023_01</td>\n",
              "      <td>Earth</td>\n",
              "      <td>False</td>\n",
              "      <td>F/5/S</td>\n",
              "      <td>TRAPPIST-1e</td>\n",
              "      <td>20.0</td>\n",
              "      <td>False</td>\n",
              "      <td>10.0</td>\n",
              "      <td>0.0</td>\n",
              "      <td>635.0</td>\n",
              "      <td>0.0</td>\n",
              "      <td>0.0</td>\n",
              "      <td>Brence Harperez</td>\n",
              "    </tr>\n",
              "  </tbody>\n",
              "</table>\n",
              "</div>\n",
              "      <button class=\"colab-df-convert\" onclick=\"convertToInteractive('df-c9947a6d-65cc-4445-9137-7ffed9259662')\"\n",
              "              title=\"Convert this dataframe to an interactive table.\"\n",
              "              style=\"display:none;\">\n",
              "        \n",
              "  <svg xmlns=\"http://www.w3.org/2000/svg\" height=\"24px\"viewBox=\"0 0 24 24\"\n",
              "       width=\"24px\">\n",
              "    <path d=\"M0 0h24v24H0V0z\" fill=\"none\"/>\n",
              "    <path d=\"M18.56 5.44l.94 2.06.94-2.06 2.06-.94-2.06-.94-.94-2.06-.94 2.06-2.06.94zm-11 1L8.5 8.5l.94-2.06 2.06-.94-2.06-.94L8.5 2.5l-.94 2.06-2.06.94zm10 10l.94 2.06.94-2.06 2.06-.94-2.06-.94-.94-2.06-.94 2.06-2.06.94z\"/><path d=\"M17.41 7.96l-1.37-1.37c-.4-.4-.92-.59-1.43-.59-.52 0-1.04.2-1.43.59L10.3 9.45l-7.72 7.72c-.78.78-.78 2.05 0 2.83L4 21.41c.39.39.9.59 1.41.59.51 0 1.02-.2 1.41-.59l7.78-7.78 2.81-2.81c.8-.78.8-2.07 0-2.86zM5.41 20L4 18.59l7.72-7.72 1.47 1.35L5.41 20z\"/>\n",
              "  </svg>\n",
              "      </button>\n",
              "      \n",
              "  <style>\n",
              "    .colab-df-container {\n",
              "      display:flex;\n",
              "      flex-wrap:wrap;\n",
              "      gap: 12px;\n",
              "    }\n",
              "\n",
              "    .colab-df-convert {\n",
              "      background-color: #E8F0FE;\n",
              "      border: none;\n",
              "      border-radius: 50%;\n",
              "      cursor: pointer;\n",
              "      display: none;\n",
              "      fill: #1967D2;\n",
              "      height: 32px;\n",
              "      padding: 0 0 0 0;\n",
              "      width: 32px;\n",
              "    }\n",
              "\n",
              "    .colab-df-convert:hover {\n",
              "      background-color: #E2EBFA;\n",
              "      box-shadow: 0px 1px 2px rgba(60, 64, 67, 0.3), 0px 1px 3px 1px rgba(60, 64, 67, 0.15);\n",
              "      fill: #174EA6;\n",
              "    }\n",
              "\n",
              "    [theme=dark] .colab-df-convert {\n",
              "      background-color: #3B4455;\n",
              "      fill: #D2E3FC;\n",
              "    }\n",
              "\n",
              "    [theme=dark] .colab-df-convert:hover {\n",
              "      background-color: #434B5C;\n",
              "      box-shadow: 0px 1px 3px 1px rgba(0, 0, 0, 0.15);\n",
              "      filter: drop-shadow(0px 1px 2px rgba(0, 0, 0, 0.3));\n",
              "      fill: #FFFFFF;\n",
              "    }\n",
              "  </style>\n",
              "\n",
              "      <script>\n",
              "        const buttonEl =\n",
              "          document.querySelector('#df-c9947a6d-65cc-4445-9137-7ffed9259662 button.colab-df-convert');\n",
              "        buttonEl.style.display =\n",
              "          google.colab.kernel.accessAllowed ? 'block' : 'none';\n",
              "\n",
              "        async function convertToInteractive(key) {\n",
              "          const element = document.querySelector('#df-c9947a6d-65cc-4445-9137-7ffed9259662');\n",
              "          const dataTable =\n",
              "            await google.colab.kernel.invokeFunction('convertToInteractive',\n",
              "                                                     [key], {});\n",
              "          if (!dataTable) return;\n",
              "\n",
              "          const docLinkHtml = 'Like what you see? Visit the ' +\n",
              "            '<a target=\"_blank\" href=https://colab.research.google.com/notebooks/data_table.ipynb>data table notebook</a>'\n",
              "            + ' to learn more about interactive tables.';\n",
              "          element.innerHTML = '';\n",
              "          dataTable['output_type'] = 'display_data';\n",
              "          await google.colab.output.renderOutput(dataTable, element);\n",
              "          const docLink = document.createElement('div');\n",
              "          docLink.innerHTML = docLinkHtml;\n",
              "          element.appendChild(docLink);\n",
              "        }\n",
              "      </script>\n",
              "    </div>\n",
              "  </div>\n",
              "  "
            ]
          },
          "metadata": {},
          "execution_count": 560
        }
      ]
    },
    {
      "cell_type": "code",
      "source": [
        "info_df(test_df)"
      ],
      "metadata": {
        "colab": {
          "base_uri": "https://localhost:8080/",
          "height": 457
        },
        "id": "IUahXfRXAave",
        "outputId": "b4d86d70-bd74-40a1-ca01-44afcf82b971"
      },
      "execution_count": 561,
      "outputs": [
        {
          "output_type": "execute_result",
          "data": {
            "text/plain": [
              "         Columns  Null  Unique     Type\n",
              "0    PassengerId     0    4277   object\n",
              "1     HomePlanet    87       3   object\n",
              "2      CryoSleep    93       2   object\n",
              "3          Cabin   100    3265   object\n",
              "4    Destination    92       3   object\n",
              "5            Age    91      79  float64\n",
              "6            VIP    93       2   object\n",
              "7    RoomService    82     842  float64\n",
              "8      FoodCourt   106     902  float64\n",
              "9   ShoppingMall    98     715  float64\n",
              "10           Spa   101     833  float64\n",
              "11        VRDeck    80     796  float64\n",
              "12          Name    94    4176   object"
            ],
            "text/html": [
              "\n",
              "  <div id=\"df-d005a7b7-036b-43be-a42f-fd753f651e5a\">\n",
              "    <div class=\"colab-df-container\">\n",
              "      <div>\n",
              "<style scoped>\n",
              "    .dataframe tbody tr th:only-of-type {\n",
              "        vertical-align: middle;\n",
              "    }\n",
              "\n",
              "    .dataframe tbody tr th {\n",
              "        vertical-align: top;\n",
              "    }\n",
              "\n",
              "    .dataframe thead th {\n",
              "        text-align: right;\n",
              "    }\n",
              "</style>\n",
              "<table border=\"1\" class=\"dataframe\">\n",
              "  <thead>\n",
              "    <tr style=\"text-align: right;\">\n",
              "      <th></th>\n",
              "      <th>Columns</th>\n",
              "      <th>Null</th>\n",
              "      <th>Unique</th>\n",
              "      <th>Type</th>\n",
              "    </tr>\n",
              "  </thead>\n",
              "  <tbody>\n",
              "    <tr>\n",
              "      <th>0</th>\n",
              "      <td>PassengerId</td>\n",
              "      <td>0</td>\n",
              "      <td>4277</td>\n",
              "      <td>object</td>\n",
              "    </tr>\n",
              "    <tr>\n",
              "      <th>1</th>\n",
              "      <td>HomePlanet</td>\n",
              "      <td>87</td>\n",
              "      <td>3</td>\n",
              "      <td>object</td>\n",
              "    </tr>\n",
              "    <tr>\n",
              "      <th>2</th>\n",
              "      <td>CryoSleep</td>\n",
              "      <td>93</td>\n",
              "      <td>2</td>\n",
              "      <td>object</td>\n",
              "    </tr>\n",
              "    <tr>\n",
              "      <th>3</th>\n",
              "      <td>Cabin</td>\n",
              "      <td>100</td>\n",
              "      <td>3265</td>\n",
              "      <td>object</td>\n",
              "    </tr>\n",
              "    <tr>\n",
              "      <th>4</th>\n",
              "      <td>Destination</td>\n",
              "      <td>92</td>\n",
              "      <td>3</td>\n",
              "      <td>object</td>\n",
              "    </tr>\n",
              "    <tr>\n",
              "      <th>5</th>\n",
              "      <td>Age</td>\n",
              "      <td>91</td>\n",
              "      <td>79</td>\n",
              "      <td>float64</td>\n",
              "    </tr>\n",
              "    <tr>\n",
              "      <th>6</th>\n",
              "      <td>VIP</td>\n",
              "      <td>93</td>\n",
              "      <td>2</td>\n",
              "      <td>object</td>\n",
              "    </tr>\n",
              "    <tr>\n",
              "      <th>7</th>\n",
              "      <td>RoomService</td>\n",
              "      <td>82</td>\n",
              "      <td>842</td>\n",
              "      <td>float64</td>\n",
              "    </tr>\n",
              "    <tr>\n",
              "      <th>8</th>\n",
              "      <td>FoodCourt</td>\n",
              "      <td>106</td>\n",
              "      <td>902</td>\n",
              "      <td>float64</td>\n",
              "    </tr>\n",
              "    <tr>\n",
              "      <th>9</th>\n",
              "      <td>ShoppingMall</td>\n",
              "      <td>98</td>\n",
              "      <td>715</td>\n",
              "      <td>float64</td>\n",
              "    </tr>\n",
              "    <tr>\n",
              "      <th>10</th>\n",
              "      <td>Spa</td>\n",
              "      <td>101</td>\n",
              "      <td>833</td>\n",
              "      <td>float64</td>\n",
              "    </tr>\n",
              "    <tr>\n",
              "      <th>11</th>\n",
              "      <td>VRDeck</td>\n",
              "      <td>80</td>\n",
              "      <td>796</td>\n",
              "      <td>float64</td>\n",
              "    </tr>\n",
              "    <tr>\n",
              "      <th>12</th>\n",
              "      <td>Name</td>\n",
              "      <td>94</td>\n",
              "      <td>4176</td>\n",
              "      <td>object</td>\n",
              "    </tr>\n",
              "  </tbody>\n",
              "</table>\n",
              "</div>\n",
              "      <button class=\"colab-df-convert\" onclick=\"convertToInteractive('df-d005a7b7-036b-43be-a42f-fd753f651e5a')\"\n",
              "              title=\"Convert this dataframe to an interactive table.\"\n",
              "              style=\"display:none;\">\n",
              "        \n",
              "  <svg xmlns=\"http://www.w3.org/2000/svg\" height=\"24px\"viewBox=\"0 0 24 24\"\n",
              "       width=\"24px\">\n",
              "    <path d=\"M0 0h24v24H0V0z\" fill=\"none\"/>\n",
              "    <path d=\"M18.56 5.44l.94 2.06.94-2.06 2.06-.94-2.06-.94-.94-2.06-.94 2.06-2.06.94zm-11 1L8.5 8.5l.94-2.06 2.06-.94-2.06-.94L8.5 2.5l-.94 2.06-2.06.94zm10 10l.94 2.06.94-2.06 2.06-.94-2.06-.94-.94-2.06-.94 2.06-2.06.94z\"/><path d=\"M17.41 7.96l-1.37-1.37c-.4-.4-.92-.59-1.43-.59-.52 0-1.04.2-1.43.59L10.3 9.45l-7.72 7.72c-.78.78-.78 2.05 0 2.83L4 21.41c.39.39.9.59 1.41.59.51 0 1.02-.2 1.41-.59l7.78-7.78 2.81-2.81c.8-.78.8-2.07 0-2.86zM5.41 20L4 18.59l7.72-7.72 1.47 1.35L5.41 20z\"/>\n",
              "  </svg>\n",
              "      </button>\n",
              "      \n",
              "  <style>\n",
              "    .colab-df-container {\n",
              "      display:flex;\n",
              "      flex-wrap:wrap;\n",
              "      gap: 12px;\n",
              "    }\n",
              "\n",
              "    .colab-df-convert {\n",
              "      background-color: #E8F0FE;\n",
              "      border: none;\n",
              "      border-radius: 50%;\n",
              "      cursor: pointer;\n",
              "      display: none;\n",
              "      fill: #1967D2;\n",
              "      height: 32px;\n",
              "      padding: 0 0 0 0;\n",
              "      width: 32px;\n",
              "    }\n",
              "\n",
              "    .colab-df-convert:hover {\n",
              "      background-color: #E2EBFA;\n",
              "      box-shadow: 0px 1px 2px rgba(60, 64, 67, 0.3), 0px 1px 3px 1px rgba(60, 64, 67, 0.15);\n",
              "      fill: #174EA6;\n",
              "    }\n",
              "\n",
              "    [theme=dark] .colab-df-convert {\n",
              "      background-color: #3B4455;\n",
              "      fill: #D2E3FC;\n",
              "    }\n",
              "\n",
              "    [theme=dark] .colab-df-convert:hover {\n",
              "      background-color: #434B5C;\n",
              "      box-shadow: 0px 1px 3px 1px rgba(0, 0, 0, 0.15);\n",
              "      filter: drop-shadow(0px 1px 2px rgba(0, 0, 0, 0.3));\n",
              "      fill: #FFFFFF;\n",
              "    }\n",
              "  </style>\n",
              "\n",
              "      <script>\n",
              "        const buttonEl =\n",
              "          document.querySelector('#df-d005a7b7-036b-43be-a42f-fd753f651e5a button.colab-df-convert');\n",
              "        buttonEl.style.display =\n",
              "          google.colab.kernel.accessAllowed ? 'block' : 'none';\n",
              "\n",
              "        async function convertToInteractive(key) {\n",
              "          const element = document.querySelector('#df-d005a7b7-036b-43be-a42f-fd753f651e5a');\n",
              "          const dataTable =\n",
              "            await google.colab.kernel.invokeFunction('convertToInteractive',\n",
              "                                                     [key], {});\n",
              "          if (!dataTable) return;\n",
              "\n",
              "          const docLinkHtml = 'Like what you see? Visit the ' +\n",
              "            '<a target=\"_blank\" href=https://colab.research.google.com/notebooks/data_table.ipynb>data table notebook</a>'\n",
              "            + ' to learn more about interactive tables.';\n",
              "          element.innerHTML = '';\n",
              "          dataTable['output_type'] = 'display_data';\n",
              "          await google.colab.output.renderOutput(dataTable, element);\n",
              "          const docLink = document.createElement('div');\n",
              "          docLink.innerHTML = docLinkHtml;\n",
              "          element.appendChild(docLink);\n",
              "        }\n",
              "      </script>\n",
              "    </div>\n",
              "  </div>\n",
              "  "
            ]
          },
          "metadata": {},
          "execution_count": 561
        }
      ]
    },
    {
      "cell_type": "markdown",
      "source": [
        "#Анализ признаков"
      ],
      "metadata": {
        "id": "41M2gJRJ3dOd"
      }
    },
    {
      "cell_type": "markdown",
      "source": [
        "##Transported"
      ],
      "metadata": {
        "id": "QENIzBlABSct"
      }
    },
    {
      "cell_type": "markdown",
      "source": [
        "Whether the passenger was transported to another dimension. This is the target, the column you are trying to predict."
      ],
      "metadata": {
        "id": "Wh0O7Kc2Cj29"
      }
    },
    {
      "cell_type": "code",
      "source": [
        "#Посмотрим распределения целевого признака\n",
        "\n",
        "plt.bar(train_df.groupby('Transported').count().index, train_df.groupby('Transported').count().iloc[:, 0])\n",
        "\n",
        "plt.show()"
      ],
      "metadata": {
        "colab": {
          "base_uri": "https://localhost:8080/",
          "height": 265
        },
        "id": "k21EEgrB3dfl",
        "outputId": "3dec2daa-edf3-46bb-c761-01d38fb0eb02"
      },
      "execution_count": 562,
      "outputs": [
        {
          "output_type": "display_data",
          "data": {
            "text/plain": [
              "<Figure size 432x288 with 1 Axes>"
            ],
            "image/png": "[encoded data removed]"
          },
          "metadata": {
            "needs_background": "light"
          }
        }
      ]
    },
    {
      "cell_type": "code",
      "source": [
        "train_df.groupby('Transported').count()['PassengerId']"
      ],
      "metadata": {
        "colab": {
          "base_uri": "https://localhost:8080/"
        },
        "id": "-rP9nF2tBYnd",
        "outputId": "3f2f6643-6a73-48fb-87d6-457b9f5c65e6"
      },
      "execution_count": 563,
      "outputs": [
        {
          "output_type": "execute_result",
          "data": {
            "text/plain": [
              "Transported\n",
              "False    4315\n",
              "True     4378\n",
              "Name: PassengerId, dtype: int64"
            ]
          },
          "metadata": {},
          "execution_count": 563
        }
      ]
    },
    {
      "cell_type": "markdown",
      "source": [
        "**Вывод**: Соотношение приблизительно 50-50"
      ],
      "metadata": {
        "id": "YuJ2rdH0CQzV"
      }
    },
    {
      "cell_type": "markdown",
      "source": [
        "##HomePlanet"
      ],
      "metadata": {
        "id": "R80gTvijCcet"
      }
    },
    {
      "cell_type": "markdown",
      "source": [
        "The planet the passenger departed from, typically their planet of permanent residence."
      ],
      "metadata": {
        "id": "AmvnEXSpCoHV"
      }
    },
    {
      "cell_type": "code",
      "source": [
        "plt.bar(train_df[train_df.Transported == True].groupby('HomePlanet').count().index, train_df[train_df.Transported == True].groupby('HomePlanet').count().iloc[:, 0])\n",
        "plt.bar(train_df[train_df.Transported == False].groupby('HomePlanet').count().index, train_df[train_df.Transported == False].groupby('HomePlanet').count().iloc[:, 0], alpha=.5)"
      ],
      "metadata": {
        "colab": {
          "base_uri": "https://localhost:8080/",
          "height": 0
        },
        "id": "2IZa2Q8ZCQk1",
        "outputId": "2cb64c08-2835-4771-b018-1d9c187a8450"
      },
      "execution_count": 564,
      "outputs": [
        {
          "output_type": "execute_result",
          "data": {
            "text/plain": [
              "<BarContainer object of 3 artists>"
            ]
          },
          "metadata": {},
          "execution_count": 564
        },
        {
          "output_type": "display_data",
          "data": {
            "text/plain": [
              "<Figure size 432x288 with 1 Axes>"
            ],
            "image/png": "[encoded data removed]"
          },
          "metadata": {
            "needs_background": "light"
          }
        }
      ]
    },
    {
      "cell_type": "markdown",
      "source": [
        "**Вывод**: Больше всего пассажиров село на Earth.\n",
        "\n",
        "Для людей с Eatrh больше вероятность НЕ перенестись.\n",
        "\n",
        "Для людей с Europa больше вероятность перенестись.\n",
        "\n",
        "Для людей с Mars вероятность 50-50."
      ],
      "metadata": {
        "id": "lpmmDqHFHeU2"
      }
    },
    {
      "cell_type": "markdown",
      "source": [
        "##CryoSleep"
      ],
      "metadata": {
        "id": "Pi2KxHvjEqYm"
      }
    },
    {
      "cell_type": "markdown",
      "source": [
        "Indicates whether the passenger elected to be put into suspended animation for the duration of the voyage. Passengers in cryosleep are confined to their cabins."
      ],
      "metadata": {
        "id": "KoS2vWs6EnkO"
      }
    },
    {
      "cell_type": "code",
      "source": [
        "plt.bar(train_df[train_df.Transported == True].groupby('CryoSleep').count().index, train_df[train_df.Transported == True].groupby('CryoSleep').count().iloc[:, 0])\n",
        "plt.bar(train_df[train_df.Transported == False].groupby('CryoSleep').count().index, train_df[train_df.Transported == False].groupby('CryoSleep').count().iloc[:, 0], alpha=.5)"
      ],
      "metadata": {
        "colab": {
          "base_uri": "https://localhost:8080/",
          "height": 0
        },
        "id": "Swu4HkCYBYk_",
        "outputId": "3966a2af-f5f2-4d2c-8f0e-3b981c7e92e0"
      },
      "execution_count": 565,
      "outputs": [
        {
          "output_type": "execute_result",
          "data": {
            "text/plain": [
              "<BarContainer object of 2 artists>"
            ]
          },
          "metadata": {},
          "execution_count": 565
        },
        {
          "output_type": "display_data",
          "data": {
            "text/plain": [
              "<Figure size 432x288 with 1 Axes>"
            ],
            "image/png": "[encoded data removed]"
          },
          "metadata": {
            "needs_background": "light"
          }
        }
      ]
    },
    {
      "cell_type": "markdown",
      "source": [
        "**Вывод**: Большенство людей НЕ находились в CryoSleep\n",
        "\n",
        "Для людей НЕ находившихся в CryoSleep больше вероятность НЕ перенестись.\n",
        "\n",
        "Для людей находившихся в CyoSleep больше вероятность перенестить."
      ],
      "metadata": {
        "id": "AFsAKdn5IEAP"
      }
    },
    {
      "cell_type": "markdown",
      "source": [
        "##Cabin (need enginering)"
      ],
      "metadata": {
        "id": "mW2LTfMvIiE-"
      }
    },
    {
      "cell_type": "markdown",
      "source": [
        "The cabin number where the passenger is staying. Takes the form deck/num/side, where side can be either P for Port or S for Starboard"
      ],
      "metadata": {
        "id": "gh2k0G8NIoyu"
      }
    },
    {
      "cell_type": "markdown",
      "source": [
        "Синженерим новые признаки Cabin_deck, Cabin_num, Cabin_side"
      ],
      "metadata": {
        "id": "7-jT6k5vI5Ku"
      }
    },
    {
      "cell_type": "markdown",
      "source": [
        "##Destination"
      ],
      "metadata": {
        "id": "kzP6JrLmJQo9"
      }
    },
    {
      "cell_type": "markdown",
      "source": [
        "The planet the passenger will be debarking to."
      ],
      "metadata": {
        "id": "Qc2eajpYJVW1"
      }
    },
    {
      "cell_type": "code",
      "source": [
        "plt.bar(train_df[train_df.Transported == True].groupby('Destination').count().index, train_df[train_df.Transported == True].groupby('Destination').count().iloc[:, 0])\n",
        "plt.bar(train_df[train_df.Transported == False].groupby('Destination').count().index, train_df[train_df.Transported == False].groupby('Destination').count().iloc[:, 0], alpha=.5)"
      ],
      "metadata": {
        "colab": {
          "base_uri": "https://localhost:8080/",
          "height": 0
        },
        "id": "pztzNLXpBYcG",
        "outputId": "74c8e950-fdb5-40a6-c91c-4a3b5a740821"
      },
      "execution_count": 566,
      "outputs": [
        {
          "output_type": "execute_result",
          "data": {
            "text/plain": [
              "<BarContainer object of 3 artists>"
            ]
          },
          "metadata": {},
          "execution_count": 566
        },
        {
          "output_type": "display_data",
          "data": {
            "text/plain": [
              "<Figure size 432x288 with 1 Axes>"
            ],
            "image/png": "[encoded data removed]"
          },
          "metadata": {
            "needs_background": "light"
          }
        }
      ]
    },
    {
      "cell_type": "markdown",
      "source": [
        "**Вывод**:\n",
        "Большенство пассажиров летело до TRAPPIST-1e.\n",
        "\n",
        "Вероятность НЕ перенестись у тех кто летел до TRAPPIST-1e больше.\n",
        "\n",
        "Вероятность перенестись у тех кто летел до 55 Cancri e больше.\n",
        "\n",
        "У тех кто летел до PSO вероятность 50-50."
      ],
      "metadata": {
        "id": "3ZfXlmCRKgCv"
      }
    },
    {
      "cell_type": "markdown",
      "source": [
        "##Age"
      ],
      "metadata": {
        "id": "ZSn0f8zWK6xn"
      }
    },
    {
      "cell_type": "markdown",
      "source": [
        "The age of the passenger."
      ],
      "metadata": {
        "id": "Kin7kTyFK-b3"
      }
    },
    {
      "cell_type": "code",
      "source": [
        "plt.subplots(figsize=(10, 8))\n",
        "\n",
        "sns.histplot(train_df[train_df.Transported == True]['Age'])\n",
        "sns.histplot(train_df[train_df.Transported == False]['Age'], color='red', alpha=.5)\n",
        "\n",
        "\n",
        "plt.show()"
      ],
      "metadata": {
        "colab": {
          "base_uri": "https://localhost:8080/",
          "height": 0
        },
        "id": "JP0ZSLjmBYZm",
        "outputId": "558b3c5c-5f00-4261-ffb2-995a943fa62b"
      },
      "execution_count": 567,
      "outputs": [
        {
          "output_type": "display_data",
          "data": {
            "text/plain": [
              "<Figure size 720x576 with 1 Axes>"
            ],
            "image/png": "[encoded data removed]"
          },
          "metadata": {
            "needs_background": "light"
          }
        }
      ]
    },
    {
      "cell_type": "markdown",
      "source": [
        "**Вывод**:\n",
        "\n",
        "Вероятность перенестись у детей до 18 лет больше.\n",
        "\n",
        "Вероятность НЕ перенестись у людей от 18 до 27 лет больше.\n",
        "\n",
        "После 27 лет вероятность перенестить 50-50"
      ],
      "metadata": {
        "id": "Ml98zBx-MvA5"
      }
    },
    {
      "cell_type": "markdown",
      "source": [
        "##VIP"
      ],
      "metadata": {
        "id": "MwXuOF_xNac-"
      }
    },
    {
      "cell_type": "markdown",
      "source": [
        "Whether the passenger has paid for special VIP service during the voyage."
      ],
      "metadata": {
        "id": "EcWHzf-lNaaV"
      }
    },
    {
      "cell_type": "code",
      "source": [
        "plt.bar(train_df[train_df.Transported == True].groupby('VIP').count().index, train_df[train_df.Transported == True].groupby('VIP').count().iloc[:, 0])\n",
        "plt.bar(train_df[train_df.Transported == False].groupby('VIP').count().index, train_df[train_df.Transported == False].groupby('VIP').count().iloc[:, 0], alpha=.5)"
      ],
      "metadata": {
        "colab": {
          "base_uri": "https://localhost:8080/",
          "height": 0
        },
        "id": "uhREafnaBYW3",
        "outputId": "7cdd3199-c7db-45f2-884a-034382ee7ff9"
      },
      "execution_count": 568,
      "outputs": [
        {
          "output_type": "execute_result",
          "data": {
            "text/plain": [
              "<BarContainer object of 2 artists>"
            ]
          },
          "metadata": {},
          "execution_count": 568
        },
        {
          "output_type": "display_data",
          "data": {
            "text/plain": [
              "<Figure size 432x288 with 1 Axes>"
            ],
            "image/png": "[encoded data removed]"
          },
          "metadata": {
            "needs_background": "light"
          }
        }
      ]
    },
    {
      "cell_type": "markdown",
      "source": [
        "**Вывод**\n",
        "\n",
        "VIP Персон крайне мало.\n",
        "\n",
        "Вероятность НЕ перенестись у VIP немного выше.\n",
        "\n",
        "Вероятность перенестись у НЕ VIP немного выше.\n"
      ],
      "metadata": {
        "id": "C-YrRM8dNm8-"
      }
    },
    {
      "cell_type": "markdown",
      "source": [
        "##RoomService, FoodCourt, ShoppingMall, Spa, VRDeck (need enginering)"
      ],
      "metadata": {
        "id": "vFYyy0gsO2lm"
      }
    },
    {
      "cell_type": "markdown",
      "source": [
        "Amount the passenger has billed at each of the Spaceship Titanic's many luxury amenities."
      ],
      "metadata": {
        "id": "chcTXEADO62v"
      }
    },
    {
      "cell_type": "markdown",
      "source": [
        "Синженирим новый признак на основе этих просуммуровав значения во всех. Признак покажет сколько денег потратил пассажир на различные сервисы."
      ],
      "metadata": {
        "id": "cQmr61e-PF4e"
      }
    },
    {
      "cell_type": "markdown",
      "source": [
        "#Enginering Features"
      ],
      "metadata": {
        "id": "bxPzB0ozP9uV"
      }
    },
    {
      "cell_type": "markdown",
      "source": [
        "##Cabin's Feature Engineering"
      ],
      "metadata": {
        "id": "7lZ1lnwjU4Or"
      }
    },
    {
      "cell_type": "code",
      "source": [
        "import re"
      ],
      "metadata": {
        "id": "TlKE-OUyBYUE"
      },
      "execution_count": 569,
      "outputs": []
    },
    {
      "cell_type": "code",
      "source": [
        "train_df['CabinDeck'] = None\n",
        "train_df['CabinNum'] = None\n",
        "train_df['CabinSide'] = None\n",
        "\n",
        "test_df['CabinDeck'] = None\n",
        "test_df['CabinNum'] = None\n",
        "test_df['CabinSide'] = None"
      ],
      "metadata": {
        "id": "Uw0jiIcDNZYP"
      },
      "execution_count": 570,
      "outputs": []
    },
    {
      "cell_type": "code",
      "source": [
        "#Можно завернуть в функцию\n",
        "for i in range(train_df.shape[0]):\n",
        "  try:\n",
        "    train_df.loc[i, 'CabinDeck'] = train_df.loc[i, 'Cabin'][0]\n",
        "    train_df.loc[i, 'CabinNum'] = re.findall('\\d+', train_df.loc[i, 'Cabin'])[0]\n",
        "    train_df.loc[i, 'CabinSide'] = train_df.loc[i, 'Cabin'][-1]\n",
        "\n",
        "  except: \n",
        "    train_df.loc[i, 'CabinDeck'] = 'NA'\n",
        "    train_df.loc[i, 'CabinNum'] = None\n",
        "    train_df.loc[i, 'CabinSide'] = 'NA'\n",
        "\n",
        "\n",
        "for i in range(test_df.shape[0]):\n",
        "  try:\n",
        "    test_df.loc[i, 'CabinDeck'] = test_df.loc[i, 'Cabin'][0]\n",
        "    test_df.loc[i, 'CabinNum'] = re.findall('\\d+', test_df.loc[i, 'Cabin'])[0]\n",
        "    test_df.loc[i, 'CabinSide'] = test_df.loc[i, 'Cabin'][-1]\n",
        "\n",
        "  except: \n",
        "    test_df.loc[i, 'CabinDeck'] = 'NA'\n",
        "    test_df.loc[i, 'CabinNum'] = None\n",
        "    test_df.loc[i, 'CabinSide'] = 'NA'"
      ],
      "metadata": {
        "id": "hDeIZYHmVN1r"
      },
      "execution_count": 571,
      "outputs": []
    },
    {
      "cell_type": "markdown",
      "source": [
        "###CabinDeck"
      ],
      "metadata": {
        "id": "Nzo4dJIgY0t8"
      }
    },
    {
      "cell_type": "code",
      "source": [
        "plt.bar(train_df[train_df.Transported == True].groupby('CabinDeck').count().index, train_df[train_df.Transported == True].groupby('CabinDeck').count().iloc[:, 0])\n",
        "plt.bar(train_df[train_df.Transported == False].groupby('CabinDeck').count().index, train_df[train_df.Transported == False].groupby('CabinDeck').count().iloc[:, 0], alpha=.5)"
      ],
      "metadata": {
        "colab": {
          "base_uri": "https://localhost:8080/",
          "height": 0
        },
        "id": "WUkh73-uVNtT",
        "outputId": "1a11a35d-c652-4bd6-f137-f4b6a475499b"
      },
      "execution_count": 572,
      "outputs": [
        {
          "output_type": "execute_result",
          "data": {
            "text/plain": [
              "<BarContainer object of 9 artists>"
            ]
          },
          "metadata": {},
          "execution_count": 572
        },
        {
          "output_type": "display_data",
          "data": {
            "text/plain": [
              "<Figure size 432x288 with 1 Axes>"
            ],
            "image/png": "[encoded data removed]"
          },
          "metadata": {
            "needs_background": "light"
          }
        }
      ]
    },
    {
      "cell_type": "markdown",
      "source": [
        "**Вывод**:\n",
        "\n",
        "\n",
        "У пассажиров с палубы D, E, F вероятность НЕ перенестись больше.\n",
        "\n",
        "У пассажиров с палубы B, C, G вероятность перенестись больше.\n",
        "\n",
        "У пассажиров с палубы A вероятность 50-50."
      ],
      "metadata": {
        "id": "5jmi2fwcZBvU"
      }
    },
    {
      "cell_type": "markdown",
      "source": [
        "###CabinSide"
      ],
      "metadata": {
        "id": "e_JRy7I4ZLD8"
      }
    },
    {
      "cell_type": "code",
      "source": [
        "plt.bar(train_df[train_df.Transported == True].groupby('CabinSide').count().index, train_df[train_df.Transported == True].groupby('CabinSide').count().iloc[:, 0])\n",
        "plt.bar(train_df[train_df.Transported == False].groupby('CabinSide').count().index, train_df[train_df.Transported == False].groupby('CabinSide').count().iloc[:, 0], alpha=.5)"
      ],
      "metadata": {
        "colab": {
          "base_uri": "https://localhost:8080/",
          "height": 0
        },
        "id": "fmaUvKYlZKqc",
        "outputId": "2325b4e5-be05-4d26-a86d-676aa0087b4b"
      },
      "execution_count": 573,
      "outputs": [
        {
          "output_type": "execute_result",
          "data": {
            "text/plain": [
              "<BarContainer object of 3 artists>"
            ]
          },
          "metadata": {},
          "execution_count": 573
        },
        {
          "output_type": "display_data",
          "data": {
            "text/plain": [
              "<Figure size 432x288 with 1 Axes>"
            ],
            "image/png": "[encoded data removed]"
          },
          "metadata": {
            "needs_background": "light"
          }
        }
      ]
    },
    {
      "cell_type": "markdown",
      "source": [
        "**Вывод**:\n",
        "\n",
        "У пассажиров с размером P вероятность НЕ перенестись больше.\n",
        "\n",
        "У пассажиров с размером S вероятность перенестись больше."
      ],
      "metadata": {
        "id": "migLD7dsbQPl"
      }
    },
    {
      "cell_type": "markdown",
      "source": [
        "##Service Feature Engineering"
      ],
      "metadata": {
        "id": "RsE3iTGdb3WL"
      }
    },
    {
      "cell_type": "code",
      "source": [
        "train_df['ServiceBill'] = None\n",
        "test_df['ServiceBill'] = None\n",
        "\n",
        "train_df['Service'] = None\n",
        "test_df['Service'] = None"
      ],
      "metadata": {
        "id": "w8oqBZLMbypj"
      },
      "execution_count": 574,
      "outputs": []
    },
    {
      "cell_type": "code",
      "source": [
        "for i in range(train_df.shape[0]):\n",
        "  train_df.loc[i, 'ServiceBill'] = train_df.loc[i, 'RoomService']\\\n",
        "                                   + train_df.loc[i, 'FoodCourt']\\\n",
        "                                   + train_df.loc[i, 'ShoppingMall']\\\n",
        "                                   + train_df.loc[i, 'Spa']\\\n",
        "                                   + train_df.loc[i, 'VRDeck']\n",
        "\n",
        "  if train_df.loc[i, 'ServiceBill'] > 5000:\n",
        "    train_df.loc[i, 'Service'] = 'B'\n",
        "  elif train_df.loc[i, 'ServiceBill'] < 1000:\n",
        "    train_df.loc[i, 'Service'] = 'S'\n",
        "  else:\n",
        "    train_df.loc[i, 'Service'] = 'M'\n",
        "\n",
        "\n",
        "\n",
        "\n",
        "for i in range(test_df.shape[0]):\n",
        "  test_df.loc[i, 'ServiceBill'] = test_df.loc[i, 'RoomService']\\\n",
        "                                   + test_df.loc[i, 'FoodCourt']\\\n",
        "                                   + test_df.loc[i, 'ShoppingMall']\\\n",
        "                                   + test_df.loc[i, 'Spa']\\\n",
        "                                   + test_df.loc[i, 'VRDeck']\n",
        "\n",
        "  if test_df.loc[i, 'ServiceBill'] > 5000:\n",
        "    test_df.loc[i, 'Service'] = 'B'\n",
        "  elif test_df.loc[i, 'ServiceBill'] < 1000:\n",
        "    test_df.loc[i, 'Service'] = 'S'\n",
        "  else:\n",
        "    test_df.loc[i, 'Service'] = 'M'"
      ],
      "metadata": {
        "id": "EpEl2gZ_bymL"
      },
      "execution_count": 575,
      "outputs": []
    },
    {
      "cell_type": "markdown",
      "source": [
        "Разделим пассажирские траты на большие (> 5000), средние (1000-5000) и незначительные (< 1000)"
      ],
      "metadata": {
        "id": "v2zxgMfOdesU"
      }
    },
    {
      "cell_type": "code",
      "source": [
        "plt.bar(train_df[train_df.Transported == True].groupby('Service').count().index, train_df[train_df.Transported == True].groupby('Service').count().iloc[:, 0])\n",
        "plt.bar(train_df[train_df.Transported == False].groupby('Service').count().index, train_df[train_df.Transported == False].groupby('Service').count().iloc[:, 0], alpha=.5)"
      ],
      "metadata": {
        "colab": {
          "base_uri": "https://localhost:8080/",
          "height": 0
        },
        "id": "y-zhGC4OecNN",
        "outputId": "61691f34-005a-4851-da4b-a7e0570b4341"
      },
      "execution_count": 576,
      "outputs": [
        {
          "output_type": "execute_result",
          "data": {
            "text/plain": [
              "<BarContainer object of 3 artists>"
            ]
          },
          "metadata": {},
          "execution_count": 576
        },
        {
          "output_type": "display_data",
          "data": {
            "text/plain": [
              "<Figure size 432x288 with 1 Axes>"
            ],
            "image/png": "[encoded data removed]"
          },
          "metadata": {
            "needs_background": "light"
          }
        }
      ]
    },
    {
      "cell_type": "markdown",
      "source": [
        "**Вывод**:\n",
        "У пассажиров со средними (M) и большими (B) тратами вероятность НЕ перестись больше.\n",
        "\n",
        "У пассажиров с маленькими (S) тратами вероятность перестись больше."
      ],
      "metadata": {
        "id": "tf7API5Wfhi_"
      }
    },
    {
      "cell_type": "markdown",
      "source": [
        "#Обработка пропущенных значений"
      ],
      "metadata": {
        "id": "uyI1_lUfQCpv"
      }
    },
    {
      "cell_type": "markdown",
      "source": [
        "Необходимо заполнить "
      ],
      "metadata": {
        "id": "_EaDJw0Bw61E"
      }
    },
    {
      "cell_type": "code",
      "source": [
        "train_df['HomePlanet'] = train_df['HomePlanet'].fillna('NA')\n",
        "train_df['CryoSleep'] = train_df['CryoSleep'].fillna('NA')\n",
        "train_df.dropna(subset=['Cabin'], inplace=True)\n",
        "train_df['Destination'] = train_df['Destination'].fillna('NA')\n",
        "train_df['Age'] = train_df['Age'].fillna(train_df['Age'].mean())\n",
        "train_df['VIP'] = train_df['VIP'].fillna('NA')\n",
        "train_df['ServiceBill'] = train_df['ServiceBill'].fillna(0)\n",
        "train_df['Name'] = train_df['Name'].fillna('NA')"
      ],
      "metadata": {
        "id": "FaScwouaw_IL"
      },
      "execution_count": 577,
      "outputs": []
    },
    {
      "cell_type": "code",
      "source": [
        "test_df['HomePlanet'] = test_df['HomePlanet'].fillna('NA')\n",
        "test_df['CryoSleep'] = test_df['CryoSleep'].fillna('NA')\n",
        "\n",
        "test_df['Destination'] = test_df['Destination'].fillna('NA')\n",
        "test_df['Age'] = test_df['Age'].fillna(test_df['Age'].mean())\n",
        "test_df['VIP'] = test_df['VIP'].fillna('NA')\n",
        "test_df['ServiceBill'] = test_df['ServiceBill'].fillna(0)\n",
        "test_df['Name'] = test_df['Name'].fillna('NA')"
      ],
      "metadata": {
        "id": "d5tcplei0Acs"
      },
      "execution_count": 578,
      "outputs": []
    },
    {
      "cell_type": "markdown",
      "source": [
        "#Пост-обработка (удаление ненужных признаков)"
      ],
      "metadata": {
        "id": "BNPdzpAd0V6-"
      }
    },
    {
      "cell_type": "code",
      "source": [
        "train_df.drop(['Cabin', 'RoomService', 'FoodCourt', 'ShoppingMall', 'Spa', 'VRDeck', 'Name', 'CabinNum', 'ServiceBill'], axis=1, inplace=True)"
      ],
      "metadata": {
        "id": "MAzuyLc70m_t"
      },
      "execution_count": 579,
      "outputs": []
    },
    {
      "cell_type": "code",
      "source": [
        "test_df.drop(['Cabin', 'RoomService', 'FoodCourt', 'ShoppingMall', 'Spa', 'VRDeck', 'Name', 'CabinNum', 'ServiceBill'], axis=1, inplace=True)"
      ],
      "metadata": {
        "id": "NQI_8QCg1RaT"
      },
      "execution_count": 580,
      "outputs": []
    },
    {
      "cell_type": "code",
      "source": [
        "y = train_df['Transported']\n",
        "X = train_df.drop(['Transported'], axis=1)"
      ],
      "metadata": {
        "id": "HBysSVQw1t4z"
      },
      "execution_count": 581,
      "outputs": []
    },
    {
      "cell_type": "code",
      "source": [
        "X_test = test_df.copy()"
      ],
      "metadata": {
        "id": "8LjhxIOf2LTD"
      },
      "execution_count": 582,
      "outputs": []
    },
    {
      "cell_type": "markdown",
      "source": [
        "X, y, X_test"
      ],
      "metadata": {
        "id": "Lr31ZzCX2F9b"
      }
    },
    {
      "cell_type": "markdown",
      "source": [
        "#Кодирование признаков"
      ],
      "metadata": {
        "id": "e_fqZ2cIQLo2"
      }
    },
    {
      "cell_type": "code",
      "source": [
        "info_df(X)"
      ],
      "metadata": {
        "colab": {
          "base_uri": "https://localhost:8080/",
          "height": 332
        },
        "id": "oVxgsFVe2m30",
        "outputId": "f2eee1ad-84ec-4998-c7d2-3cfd8d0778a2"
      },
      "execution_count": 583,
      "outputs": [
        {
          "output_type": "execute_result",
          "data": {
            "text/plain": [
              "       Columns  Null  Unique     Type\n",
              "0  PassengerId     0    8494   object\n",
              "1   HomePlanet     0       4   object\n",
              "2    CryoSleep     0       3   object\n",
              "3  Destination     0       4   object\n",
              "4          Age     0      81  float64\n",
              "5          VIP     0       3   object\n",
              "6    CabinDeck     0       8   object\n",
              "7    CabinSide     0       2   object\n",
              "8      Service     0       3   object"
            ],
            "text/html": [
              "\n",
              "  <div id=\"df-66f202ef-ef5b-4916-bb1b-5d160d78ca8d\">\n",
              "    <div class=\"colab-df-container\">\n",
              "      <div>\n",
              "<style scoped>\n",
              "    .dataframe tbody tr th:only-of-type {\n",
              "        vertical-align: middle;\n",
              "    }\n",
              "\n",
              "    .dataframe tbody tr th {\n",
              "        vertical-align: top;\n",
              "    }\n",
              "\n",
              "    .dataframe thead th {\n",
              "        text-align: right;\n",
              "    }\n",
              "</style>\n",
              "<table border=\"1\" class=\"dataframe\">\n",
              "  <thead>\n",
              "    <tr style=\"text-align: right;\">\n",
              "      <th></th>\n",
              "      <th>Columns</th>\n",
              "      <th>Null</th>\n",
              "      <th>Unique</th>\n",
              "      <th>Type</th>\n",
              "    </tr>\n",
              "  </thead>\n",
              "  <tbody>\n",
              "    <tr>\n",
              "      <th>0</th>\n",
              "      <td>PassengerId</td>\n",
              "      <td>0</td>\n",
              "      <td>8494</td>\n",
              "      <td>object</td>\n",
              "    </tr>\n",
              "    <tr>\n",
              "      <th>1</th>\n",
              "      <td>HomePlanet</td>\n",
              "      <td>0</td>\n",
              "      <td>4</td>\n",
              "      <td>object</td>\n",
              "    </tr>\n",
              "    <tr>\n",
              "      <th>2</th>\n",
              "      <td>CryoSleep</td>\n",
              "      <td>0</td>\n",
              "      <td>3</td>\n",
              "      <td>object</td>\n",
              "    </tr>\n",
              "    <tr>\n",
              "      <th>3</th>\n",
              "      <td>Destination</td>\n",
              "      <td>0</td>\n",
              "      <td>4</td>\n",
              "      <td>object</td>\n",
              "    </tr>\n",
              "    <tr>\n",
              "      <th>4</th>\n",
              "      <td>Age</td>\n",
              "      <td>0</td>\n",
              "      <td>81</td>\n",
              "      <td>float64</td>\n",
              "    </tr>\n",
              "    <tr>\n",
              "      <th>5</th>\n",
              "      <td>VIP</td>\n",
              "      <td>0</td>\n",
              "      <td>3</td>\n",
              "      <td>object</td>\n",
              "    </tr>\n",
              "    <tr>\n",
              "      <th>6</th>\n",
              "      <td>CabinDeck</td>\n",
              "      <td>0</td>\n",
              "      <td>8</td>\n",
              "      <td>object</td>\n",
              "    </tr>\n",
              "    <tr>\n",
              "      <th>7</th>\n",
              "      <td>CabinSide</td>\n",
              "      <td>0</td>\n",
              "      <td>2</td>\n",
              "      <td>object</td>\n",
              "    </tr>\n",
              "    <tr>\n",
              "      <th>8</th>\n",
              "      <td>Service</td>\n",
              "      <td>0</td>\n",
              "      <td>3</td>\n",
              "      <td>object</td>\n",
              "    </tr>\n",
              "  </tbody>\n",
              "</table>\n",
              "</div>\n",
              "      <button class=\"colab-df-convert\" onclick=\"convertToInteractive('df-66f202ef-ef5b-4916-bb1b-5d160d78ca8d')\"\n",
              "              title=\"Convert this dataframe to an interactive table.\"\n",
              "              style=\"display:none;\">\n",
              "        \n",
              "  <svg xmlns=\"http://www.w3.org/2000/svg\" height=\"24px\"viewBox=\"0 0 24 24\"\n",
              "       width=\"24px\">\n",
              "    <path d=\"M0 0h24v24H0V0z\" fill=\"none\"/>\n",
              "    <path d=\"M18.56 5.44l.94 2.06.94-2.06 2.06-.94-2.06-.94-.94-2.06-.94 2.06-2.06.94zm-11 1L8.5 8.5l.94-2.06 2.06-.94-2.06-.94L8.5 2.5l-.94 2.06-2.06.94zm10 10l.94 2.06.94-2.06 2.06-.94-2.06-.94-.94-2.06-.94 2.06-2.06.94z\"/><path d=\"M17.41 7.96l-1.37-1.37c-.4-.4-.92-.59-1.43-.59-.52 0-1.04.2-1.43.59L10.3 9.45l-7.72 7.72c-.78.78-.78 2.05 0 2.83L4 21.41c.39.39.9.59 1.41.59.51 0 1.02-.2 1.41-.59l7.78-7.78 2.81-2.81c.8-.78.8-2.07 0-2.86zM5.41 20L4 18.59l7.72-7.72 1.47 1.35L5.41 20z\"/>\n",
              "  </svg>\n",
              "      </button>\n",
              "      \n",
              "  <style>\n",
              "    .colab-df-container {\n",
              "      display:flex;\n",
              "      flex-wrap:wrap;\n",
              "      gap: 12px;\n",
              "    }\n",
              "\n",
              "    .colab-df-convert {\n",
              "      background-color: #E8F0FE;\n",
              "      border: none;\n",
              "      border-radius: 50%;\n",
              "      cursor: pointer;\n",
              "      display: none;\n",
              "      fill: #1967D2;\n",
              "      height: 32px;\n",
              "      padding: 0 0 0 0;\n",
              "      width: 32px;\n",
              "    }\n",
              "\n",
              "    .colab-df-convert:hover {\n",
              "      background-color: #E2EBFA;\n",
              "      box-shadow: 0px 1px 2px rgba(60, 64, 67, 0.3), 0px 1px 3px 1px rgba(60, 64, 67, 0.15);\n",
              "      fill: #174EA6;\n",
              "    }\n",
              "\n",
              "    [theme=dark] .colab-df-convert {\n",
              "      background-color: #3B4455;\n",
              "      fill: #D2E3FC;\n",
              "    }\n",
              "\n",
              "    [theme=dark] .colab-df-convert:hover {\n",
              "      background-color: #434B5C;\n",
              "      box-shadow: 0px 1px 3px 1px rgba(0, 0, 0, 0.15);\n",
              "      filter: drop-shadow(0px 1px 2px rgba(0, 0, 0, 0.3));\n",
              "      fill: #FFFFFF;\n",
              "    }\n",
              "  </style>\n",
              "\n",
              "      <script>\n",
              "        const buttonEl =\n",
              "          document.querySelector('#df-66f202ef-ef5b-4916-bb1b-5d160d78ca8d button.colab-df-convert');\n",
              "        buttonEl.style.display =\n",
              "          google.colab.kernel.accessAllowed ? 'block' : 'none';\n",
              "\n",
              "        async function convertToInteractive(key) {\n",
              "          const element = document.querySelector('#df-66f202ef-ef5b-4916-bb1b-5d160d78ca8d');\n",
              "          const dataTable =\n",
              "            await google.colab.kernel.invokeFunction('convertToInteractive',\n",
              "                                                     [key], {});\n",
              "          if (!dataTable) return;\n",
              "\n",
              "          const docLinkHtml = 'Like what you see? Visit the ' +\n",
              "            '<a target=\"_blank\" href=https://colab.research.google.com/notebooks/data_table.ipynb>data table notebook</a>'\n",
              "            + ' to learn more about interactive tables.';\n",
              "          element.innerHTML = '';\n",
              "          dataTable['output_type'] = 'display_data';\n",
              "          await google.colab.output.renderOutput(dataTable, element);\n",
              "          const docLink = document.createElement('div');\n",
              "          docLink.innerHTML = docLinkHtml;\n",
              "          element.appendChild(docLink);\n",
              "        }\n",
              "      </script>\n",
              "    </div>\n",
              "  </div>\n",
              "  "
            ]
          },
          "metadata": {},
          "execution_count": 583
        }
      ]
    },
    {
      "cell_type": "code",
      "source": [
        "from sklearn import preprocessing"
      ],
      "metadata": {
        "id": "l9LXLrTV29tx"
      },
      "execution_count": 584,
      "outputs": []
    },
    {
      "cell_type": "code",
      "source": [
        "X['CabinSide'] = preprocessing.LabelEncoder().fit_transform(X['CabinSide'])\n",
        "X_test['CabinSide'] = preprocessing.LabelEncoder().fit_transform(X_test['CabinSide'])"
      ],
      "metadata": {
        "id": "DMoZAN_g2lA7"
      },
      "execution_count": 585,
      "outputs": []
    },
    {
      "cell_type": "code",
      "source": [
        "X = pd.get_dummies(X, columns=['HomePlanet', 'CryoSleep', 'Destination', 'VIP', 'CabinDeck', 'Service'])\n",
        "X_test = pd.get_dummies(X_test, columns=['HomePlanet', 'CryoSleep', 'Destination', 'VIP', 'CabinDeck', 'Service'])"
      ],
      "metadata": {
        "id": "S0aLTubz3Je7"
      },
      "execution_count": 586,
      "outputs": []
    },
    {
      "cell_type": "code",
      "source": [
        "X_test.drop(['CabinDeck_NA'], axis=1, inplace=True)"
      ],
      "metadata": {
        "id": "XHYJC_ohD_Z8"
      },
      "execution_count": 587,
      "outputs": []
    },
    {
      "cell_type": "markdown",
      "source": [
        "#Machine Learning"
      ],
      "metadata": {
        "id": "geaIMQq9QYAg"
      }
    },
    {
      "cell_type": "markdown",
      "source": [
        "## Модели"
      ],
      "metadata": {
        "id": "prE533Uf6gZG"
      }
    },
    {
      "cell_type": "markdown",
      "source": [
        "###Всё готово к машинному обучению"
      ],
      "metadata": {
        "id": "wo3IidBW4_RD"
      }
    },
    {
      "cell_type": "code",
      "source": [
        "#Импорт библиотек\n",
        "\n",
        "from sklearn.model_selection import train_test_split\n",
        "from sklearn.model_selection import GridSearchCV\n",
        "from sklearn.model_selection import StratifiedKFold\n",
        "\n",
        "from sklearn.neighbors import KNeighborsClassifier\n",
        "from sklearn.tree import DecisionTreeClassifier\n",
        "from sklearn.linear_model import LogisticRegression\n",
        "\n",
        "from sklearn.ensemble import GradientBoostingClassifier\n",
        "import xgboost as xgb\n",
        "\n",
        "import warnings"
      ],
      "metadata": {
        "id": "OD616j4mQXo1"
      },
      "execution_count": 588,
      "outputs": []
    },
    {
      "cell_type": "code",
      "source": [
        "random_state = 7"
      ],
      "metadata": {
        "id": "Ni3V222EQxzI"
      },
      "execution_count": 589,
      "outputs": []
    },
    {
      "cell_type": "code",
      "source": [
        "#Так как датасет несбалансированный, то задаем параметр stratify = целевой признак\n",
        "x_train, x_test, y_train, y_test = train_test_split(X, y, test_size=0.3, random_state=random_state)"
      ],
      "metadata": {
        "id": "Crv3STmaQxv-"
      },
      "execution_count": 590,
      "outputs": []
    },
    {
      "cell_type": "code",
      "source": [
        "#Создадим функцию для нахождения наилучших параметров\n",
        "def best_params(reg, parametrs, X, y, cv):\n",
        "  grid = GridSearchCV(reg, parametrs, cv=cv, scoring='roc_auc')\n",
        "  grid = grid.fit(X, y)\n",
        "  return grid.best_params_"
      ],
      "metadata": {
        "id": "K2woI0CGQxtG"
      },
      "execution_count": 591,
      "outputs": []
    },
    {
      "cell_type": "code",
      "source": [
        "#Алгоритм kNN\n",
        "knn_parametrs = {'n_neighbors': range(1, 50)}\n",
        "\n",
        "#Decision Trees\n",
        "dtc_parametrs = {'max_depth': range(1, 15), 'min_samples_leaf': range(1, 10)}\n",
        "\n",
        "#LogisticRegression\n",
        "lr_parametrs = {'C': np.arange(0.1, 2.0, 0.1)}\n",
        "\n",
        "#Для кросс-валидации\n",
        "skf = StratifiedKFold(n_splits=5, random_state=random_state, shuffle=True)"
      ],
      "metadata": {
        "id": "gsAdBHyS5dTl"
      },
      "execution_count": 592,
      "outputs": []
    },
    {
      "cell_type": "code",
      "source": [
        "# #Подбираем лучшие параметры\n",
        "# knn_best_parametrs = best_params(KNeighborsClassifier(), \n",
        "#                                  knn_parametrs, x_train, y_train, skf)\n",
        "\n",
        "# dtc_best_parametrs = best_params(DecisionTreeClassifier(random_state = random_state),\n",
        "#                                  dtc_parametrs, x_train, y_train, skf)\n",
        "\n",
        "# lr_best_parametrs = best_params(LogisticRegression(random_state = random_state),\n",
        "#                                  lr_parametrs, x_train, y_train, skf)\n",
        "\n",
        "# #Здесь выскакивало предупреждение, я его скрыл\n",
        "# warnings.filterwarnings('ignore')"
      ],
      "metadata": {
        "id": "BhnDhhWt5dRU"
      },
      "execution_count": 593,
      "outputs": []
    },
    {
      "cell_type": "code",
      "source": [
        "# #Посмотрим какие параметры оказались наилучшими\n",
        "# print('kNN\\n', '-'*20, '\\n', knn_best_parametrs, '\\n')\n",
        "# print('Decision Trees\\n', '-'*20, '\\n', dtc_best_parametrs, '\\n')\n",
        "# print('LogisticRegression\\n', '-'*20, '\\n', lr_best_parametrs, '\\n')"
      ],
      "metadata": {
        "id": "NS9QSr775dPA"
      },
      "execution_count": 594,
      "outputs": []
    },
    {
      "cell_type": "markdown",
      "source": [
        "###Строим модели (с учетом наилучших параметров)"
      ],
      "metadata": {
        "id": "o739oevr6Kt3"
      }
    },
    {
      "cell_type": "code",
      "source": [
        "# #Алгоритм kNN\n",
        "# knn = KNeighborsClassifier(**knn_best_parametrs)\n",
        "# knn_model = knn.fit(x_train, y_train)\n",
        "# knn_pred = knn_model.predict(x_test)"
      ],
      "metadata": {
        "id": "p67Tct5U5dMb"
      },
      "execution_count": 595,
      "outputs": []
    },
    {
      "cell_type": "code",
      "source": [
        "# #Decision Trees\n",
        "# dtc = DecisionTreeClassifier(**dtc_best_parametrs, random_state=random_state)\n",
        "# dtc_model = dtc.fit(x_train, y_train)\n",
        "# dtc_pred = dtc_model.predict(x_test)"
      ],
      "metadata": {
        "id": "WmeEXZvS5dJp"
      },
      "execution_count": 596,
      "outputs": []
    },
    {
      "cell_type": "code",
      "source": [
        "# #LogisticRegression\n",
        "# lr = LogisticRegression(**lr_best_parametrs, random_state=random_state)\n",
        "# lr_model = lr.fit(x_train, y_train)\n",
        "# lr_pred = lr_model.predict(x_test)\n",
        "\n",
        "# #Здесь выскакивало предупреждение, я его скрыл\n",
        "# warnings.filterwarnings('ignore')"
      ],
      "metadata": {
        "id": "GWIRISZt5dG7"
      },
      "execution_count": 597,
      "outputs": []
    },
    {
      "cell_type": "markdown",
      "source": [
        "###Сравниваем качество моделей"
      ],
      "metadata": {
        "id": "K17UPXOA6YXc"
      }
    },
    {
      "cell_type": "code",
      "source": [
        "# from sklearn.metrics import confusion_matrix\n",
        "# from sklearn.metrics import recall_score\n",
        "# from sklearn.metrics import precision_score\n",
        "# from sklearn.metrics import roc_auc_score"
      ],
      "metadata": {
        "id": "sD0Br3kU5dEd"
      },
      "execution_count": 598,
      "outputs": []
    },
    {
      "cell_type": "code",
      "source": [
        "# #Алгоритм kNN\n",
        "# knn_roc_auc = roc_auc_score(y_test, knn_pred)\n",
        "\n",
        "# #Decision Trees\n",
        "# dtc_roc_auc = roc_auc_score(y_test, dtc_pred)\n",
        "\n",
        "# #LogisticRegression\n",
        "# lr_roc_auc = roc_auc_score(y_test, lr_pred)"
      ],
      "metadata": {
        "id": "id1HOI8z5dBs"
      },
      "execution_count": 599,
      "outputs": []
    },
    {
      "cell_type": "code",
      "source": [
        "# print('Алгоритм kNN\\n', '-'*30, '\\n', f'ROC-AUC score равен {round(knn_roc_auc, 4)} \\n \\n' )\n",
        "# print('Алгоритм Decision Trees\\n', '-'*30, '\\n', f'ROC-AUC score равен {round(dtc_roc_auc, 4)} \\n \\n' )\n",
        "# print('Алгоритм LogisticRegression\\n', '-'*30, '\\n', f'ROC-AUC score равен {round(lr_roc_auc, 4)} \\n \\n' )"
      ],
      "metadata": {
        "id": "V_yyugta6SQP"
      },
      "execution_count": 600,
      "outputs": []
    },
    {
      "cell_type": "markdown",
      "source": [
        "##XGBoost"
      ],
      "metadata": {
        "id": "5HBUlHg26t0O"
      }
    },
    {
      "cell_type": "code",
      "source": [
        "#Создадим объекты DMatrix для работы с xgboost\n",
        "xgb_dtrain = xgb.DMatrix(np.array(x_train), np.array(y_train))\n",
        "xgb_dtest = xgb.DMatrix(np.array(x_test), np.array(y_test))\n",
        "\n",
        "#Зададим параметры xgboost из которых будем искать наилучшие\n",
        "xgb_parametrs = {'learning_rate': (0.05, 0.10, 0.15, 0.20),  'max_depth': [1, 2, 3, 4, 5], 'n_estimators': range(50, 300, 50)}\n",
        "\n",
        "#Количество итераций\n",
        "num_rounds = 30"
      ],
      "metadata": {
        "id": "88qniNc86SNa"
      },
      "execution_count": 601,
      "outputs": []
    },
    {
      "cell_type": "code",
      "source": [
        "# # Подбираем лучшие параметры для xgboost\n",
        "# xgb_best_parametrs = best_params(xgb.XGBClassifier(), xgb_parametrs, np.array(x_train), np.array(y_train), skf)"
      ],
      "metadata": {
        "id": "qRO705ol6SLK"
      },
      "execution_count": 602,
      "outputs": []
    },
    {
      "cell_type": "code",
      "source": [
        "#Посмотрим какие параметры оказались наилучшими\n",
        "print('XGBoost best parametrs\\n', '-'*20, '\\n', xgb_best_parametrs, '\\n')"
      ],
      "metadata": {
        "colab": {
          "base_uri": "https://localhost:8080/"
        },
        "id": "8_-MBKNr6SJA",
        "outputId": "e7a2e86b-1c84-4e59-e27e-694666696221"
      },
      "execution_count": 603,
      "outputs": [
        {
          "output_type": "stream",
          "name": "stdout",
          "text": [
            "XGBoost best parametrs\n",
            " -------------------- \n",
            " {'learning_rate': 0.1, 'max_depth': 5, 'n_estimators': 300} \n",
            "\n"
          ]
        }
      ]
    },
    {
      "cell_type": "code",
      "source": [
        "xgb_best_parametrs = {'learning_rate': 0.2, 'max_depth': 3, 'n_estimators': 50}"
      ],
      "metadata": {
        "id": "wxliOMFx7aU8"
      },
      "execution_count": 604,
      "outputs": []
    },
    {
      "cell_type": "code",
      "source": [
        "#Создадим модель xgboost\n",
        "xgb_model = xgb.train(xgb_best_parametrs, xgb_dtrain, num_rounds)"
      ],
      "metadata": {
        "id": "VzuXtoP96SGX"
      },
      "execution_count": 605,
      "outputs": []
    },
    {
      "cell_type": "code",
      "source": [
        "#Посмотрим какие фичи модель выделила больше всего\n",
        "xgb.plot_importance(xgb_model, max_num_features=20)\n",
        "\n",
        "plt.show()"
      ],
      "metadata": {
        "colab": {
          "base_uri": "https://localhost:8080/",
          "height": 295
        },
        "id": "bO1_nuBt6SEN",
        "outputId": "8602e9c6-c325-48df-9219-c2a1c8eef77d"
      },
      "execution_count": 606,
      "outputs": [
        {
          "output_type": "display_data",
          "data": {
            "text/plain": [
              "<Figure size 432x288 with 1 Axes>"
            ],
            "image/png": "[encoded data removed]"
          },
          "metadata": {
            "needs_background": "light"
          }
        }
      ]
    },
    {
      "cell_type": "code",
      "source": [
        "#Создадим предсказание xgb модели\n",
        "xgb_pred = xgb_model.predict(xgb_dtest)"
      ],
      "metadata": {
        "id": "NB2kj1S66SB1"
      },
      "execution_count": 607,
      "outputs": []
    },
    {
      "cell_type": "code",
      "source": [
        "#Зададим порог в 50%\n",
        "xgb_pred_50_percent = (xgb_pred > 0.5).astype(int)"
      ],
      "metadata": {
        "id": "pcK9pdSj7BDV"
      },
      "execution_count": 608,
      "outputs": []
    },
    {
      "cell_type": "code",
      "source": [
        "xgb_roc_auc = roc_auc_score(y_test, xgb_pred_50_percent)"
      ],
      "metadata": {
        "id": "KSZmGoaT7BAs"
      },
      "execution_count": 609,
      "outputs": []
    },
    {
      "cell_type": "code",
      "source": [
        "print('Алгоритм XGBoost (порог 50%)\\n', '-'*30, '\\n', f'ROC-AUC score равен {round(xgb_roc_auc, 4)} \\n' )"
      ],
      "metadata": {
        "colab": {
          "base_uri": "https://localhost:8080/"
        },
        "id": "WWlVYEFB7A-c",
        "outputId": "db730d81-6d47-4a26-fb36-e4cc4becb533"
      },
      "execution_count": 610,
      "outputs": [
        {
          "output_type": "stream",
          "name": "stdout",
          "text": [
            "Алгоритм XGBoost (порог 50%)\n",
            " ------------------------------ \n",
            " ROC-AUC score равен 0.7476 \n",
            "\n"
          ]
        }
      ]
    },
    {
      "cell_type": "markdown",
      "source": [
        "Вручную подгоним"
      ],
      "metadata": {
        "id": "E2MSCvsI8xPU"
      }
    },
    {
      "cell_type": "code",
      "source": [
        "xgb_best_parametrs = {'learning_rate': 0.1, 'max_depth': 5, 'n_estimators': 300}\n",
        "\n",
        "#Создадим веса для экземпляров класса\n",
        "weights = np.zeros(len(y_train))\n",
        "weights[y_train == 0] = 1\n",
        "weights[y_train == 1] = 1.2\n",
        "\n",
        "#Ещё раз создадим объекты DMatrix для работы с xgboost (укажим наши веса weights)\n",
        "xgb_dtrain1 = xgb.DMatrix(np.array(x_train), np.array(y_train), weight=weights)\n",
        "xgb_dtest1 = xgb.DMatrix(np.array(x_test), np.array(y_test))\n",
        "\n",
        "#Создадим модель xgboost\n",
        "xgb_model1 = xgb.train(xgb_best_parametrs, xgb_dtrain1, num_rounds)\n",
        "\n",
        "#Создадим предсказание xgb модели\n",
        "xgb_pred1 = xgb_model1.predict(xgb_dtest1)\n",
        "\n",
        "#Зададим порог в 40%\n",
        "xgb_pred_40_percent1 = (xgb_pred1 > 0.50).astype(int)\n",
        "\n",
        "xgb_roc_auc_40_weights = roc_auc_score(y_test, xgb_pred_40_percent1)\n",
        "\n",
        "print('Алгоритм XGBoost (порог 40%)\\n', 'Добавлены веса для экземпляров класса \\n', '-'*35, '\\n', f'ROC-AUC score равен {round(xgb_roc_auc_40_weights, 4)} \\n \\n' )"
      ],
      "metadata": {
        "colab": {
          "base_uri": "https://localhost:8080/"
        },
        "id": "Krs4STVH7A5c",
        "outputId": "27e15bd0-ccce-49c6-9d7b-14a0eb3e3faf"
      },
      "execution_count": 611,
      "outputs": [
        {
          "output_type": "stream",
          "name": "stdout",
          "text": [
            "Алгоритм XGBoost (порог 40%)\n",
            " Добавлены веса для экземпляров класса \n",
            " ----------------------------------- \n",
            " ROC-AUC score равен 0.7504 \n",
            " \n",
            "\n"
          ]
        }
      ]
    },
    {
      "cell_type": "markdown",
      "source": [
        "##RandomForest"
      ],
      "metadata": {
        "id": "MF2xNxwt-gY0"
      }
    },
    {
      "cell_type": "code",
      "source": [
        "from sklearn.ensemble import RandomForestClassifier"
      ],
      "metadata": {
        "id": "KdB5PIK086Vt"
      },
      "execution_count": 612,
      "outputs": []
    },
    {
      "cell_type": "code",
      "source": [
        "rfc_best_parametrs = {'criterion': 'entropy', \n",
        "                      'max_depth': 10, \n",
        "                      'max_features': 'sqrt', \n",
        "                      'n_estimators': 100}"
      ],
      "metadata": {
        "id": "7zBHIIef-ePB"
      },
      "execution_count": 613,
      "outputs": []
    },
    {
      "cell_type": "code",
      "source": [
        "class_weights = {0: 1, 1: 1.2}"
      ],
      "metadata": {
        "id": "dyaHGr0b-wF1"
      },
      "execution_count": 614,
      "outputs": []
    },
    {
      "cell_type": "code",
      "source": [
        "rfc = RandomForestClassifier(**rfc_best_parametrs, random_state=random_state, class_weight=class_weights)\n",
        "\n",
        "rfc_model = rfc.fit(x_train, y_train)\n",
        "rfc_pred = rfc_model.predict(x_test)\n",
        "rfc_pred_prob = rfc_model.predict_proba(x_test)[:, 1]\n",
        "\n",
        "rfc_roc_auc = roc_auc_score(y_test, rfc_pred)"
      ],
      "metadata": {
        "id": "EDrjmMwW-eM0"
      },
      "execution_count": 615,
      "outputs": []
    },
    {
      "cell_type": "code",
      "source": [
        "print('Алгоритм RandomForest\\n', '-'*30, '\\n', f'ROC-AUC score равен {round(rfc_roc_auc, 4)} \\n' )"
      ],
      "metadata": {
        "colab": {
          "base_uri": "https://localhost:8080/"
        },
        "id": "y-yqYvB1-eJ9",
        "outputId": "9133050a-550d-4162-8cc8-6c2c4a2b6a5d"
      },
      "execution_count": 616,
      "outputs": [
        {
          "output_type": "stream",
          "name": "stdout",
          "text": [
            "Алгоритм RandomForest\n",
            " ------------------------------ \n",
            " ROC-AUC score равен 0.754 \n",
            "\n"
          ]
        }
      ]
    },
    {
      "cell_type": "code",
      "source": [
        "rfc_pred_prob > 0.5"
      ],
      "metadata": {
        "colab": {
          "base_uri": "https://localhost:8080/"
        },
        "id": "ku8pB1EZBbDG",
        "outputId": "30938be8-c7ae-453e-8c6d-6ad31a077fe5"
      },
      "execution_count": 617,
      "outputs": [
        {
          "output_type": "execute_result",
          "data": {
            "text/plain": [
              "array([ True,  True, False, ..., False,  True, False])"
            ]
          },
          "metadata": {},
          "execution_count": 617
        }
      ]
    },
    {
      "cell_type": "markdown",
      "source": [
        "##Итог"
      ],
      "metadata": {
        "id": "dTQ4nCtF_uB0"
      }
    },
    {
      "cell_type": "code",
      "source": [
        "ex = pd.read_csv('sample_submission.csv')\n",
        "ex.head()"
      ],
      "metadata": {
        "colab": {
          "base_uri": "https://localhost:8080/",
          "height": 206
        },
        "id": "AuYu07NZ-eHU",
        "outputId": "85e0a14a-8422-4855-ff2a-b726760560b0"
      },
      "execution_count": 618,
      "outputs": [
        {
          "output_type": "execute_result",
          "data": {
            "text/plain": [
              "  PassengerId  Transported\n",
              "0     0013_01        False\n",
              "1     0018_01        False\n",
              "2     0019_01        False\n",
              "3     0021_01        False\n",
              "4     0023_01        False"
            ],
            "text/html": [
              "\n",
              "  <div id=\"df-b091ca4b-06eb-4368-888f-2877af7fd107\">\n",
              "    <div class=\"colab-df-container\">\n",
              "      <div>\n",
              "<style scoped>\n",
              "    .dataframe tbody tr th:only-of-type {\n",
              "        vertical-align: middle;\n",
              "    }\n",
              "\n",
              "    .dataframe tbody tr th {\n",
              "        vertical-align: top;\n",
              "    }\n",
              "\n",
              "    .dataframe thead th {\n",
              "        text-align: right;\n",
              "    }\n",
              "</style>\n",
              "<table border=\"1\" class=\"dataframe\">\n",
              "  <thead>\n",
              "    <tr style=\"text-align: right;\">\n",
              "      <th></th>\n",
              "      <th>PassengerId</th>\n",
              "      <th>Transported</th>\n",
              "    </tr>\n",
              "  </thead>\n",
              "  <tbody>\n",
              "    <tr>\n",
              "      <th>0</th>\n",
              "      <td>0013_01</td>\n",
              "      <td>False</td>\n",
              "    </tr>\n",
              "    <tr>\n",
              "      <th>1</th>\n",
              "      <td>0018_01</td>\n",
              "      <td>False</td>\n",
              "    </tr>\n",
              "    <tr>\n",
              "      <th>2</th>\n",
              "      <td>0019_01</td>\n",
              "      <td>False</td>\n",
              "    </tr>\n",
              "    <tr>\n",
              "      <th>3</th>\n",
              "      <td>0021_01</td>\n",
              "      <td>False</td>\n",
              "    </tr>\n",
              "    <tr>\n",
              "      <th>4</th>\n",
              "      <td>0023_01</td>\n",
              "      <td>False</td>\n",
              "    </tr>\n",
              "  </tbody>\n",
              "</table>\n",
              "</div>\n",
              "      <button class=\"colab-df-convert\" onclick=\"convertToInteractive('df-b091ca4b-06eb-4368-888f-2877af7fd107')\"\n",
              "              title=\"Convert this dataframe to an interactive table.\"\n",
              "              style=\"display:none;\">\n",
              "        \n",
              "  <svg xmlns=\"http://www.w3.org/2000/svg\" height=\"24px\"viewBox=\"0 0 24 24\"\n",
              "       width=\"24px\">\n",
              "    <path d=\"M0 0h24v24H0V0z\" fill=\"none\"/>\n",
              "    <path d=\"M18.56 5.44l.94 2.06.94-2.06 2.06-.94-2.06-.94-.94-2.06-.94 2.06-2.06.94zm-11 1L8.5 8.5l.94-2.06 2.06-.94-2.06-.94L8.5 2.5l-.94 2.06-2.06.94zm10 10l.94 2.06.94-2.06 2.06-.94-2.06-.94-.94-2.06-.94 2.06-2.06.94z\"/><path d=\"M17.41 7.96l-1.37-1.37c-.4-.4-.92-.59-1.43-.59-.52 0-1.04.2-1.43.59L10.3 9.45l-7.72 7.72c-.78.78-.78 2.05 0 2.83L4 21.41c.39.39.9.59 1.41.59.51 0 1.02-.2 1.41-.59l7.78-7.78 2.81-2.81c.8-.78.8-2.07 0-2.86zM5.41 20L4 18.59l7.72-7.72 1.47 1.35L5.41 20z\"/>\n",
              "  </svg>\n",
              "      </button>\n",
              "      \n",
              "  <style>\n",
              "    .colab-df-container {\n",
              "      display:flex;\n",
              "      flex-wrap:wrap;\n",
              "      gap: 12px;\n",
              "    }\n",
              "\n",
              "    .colab-df-convert {\n",
              "      background-color: #E8F0FE;\n",
              "      border: none;\n",
              "      border-radius: 50%;\n",
              "      cursor: pointer;\n",
              "      display: none;\n",
              "      fill: #1967D2;\n",
              "      height: 32px;\n",
              "      padding: 0 0 0 0;\n",
              "      width: 32px;\n",
              "    }\n",
              "\n",
              "    .colab-df-convert:hover {\n",
              "      background-color: #E2EBFA;\n",
              "      box-shadow: 0px 1px 2px rgba(60, 64, 67, 0.3), 0px 1px 3px 1px rgba(60, 64, 67, 0.15);\n",
              "      fill: #174EA6;\n",
              "    }\n",
              "\n",
              "    [theme=dark] .colab-df-convert {\n",
              "      background-color: #3B4455;\n",
              "      fill: #D2E3FC;\n",
              "    }\n",
              "\n",
              "    [theme=dark] .colab-df-convert:hover {\n",
              "      background-color: #434B5C;\n",
              "      box-shadow: 0px 1px 3px 1px rgba(0, 0, 0, 0.15);\n",
              "      filter: drop-shadow(0px 1px 2px rgba(0, 0, 0, 0.3));\n",
              "      fill: #FFFFFF;\n",
              "    }\n",
              "  </style>\n",
              "\n",
              "      <script>\n",
              "        const buttonEl =\n",
              "          document.querySelector('#df-b091ca4b-06eb-4368-888f-2877af7fd107 button.colab-df-convert');\n",
              "        buttonEl.style.display =\n",
              "          google.colab.kernel.accessAllowed ? 'block' : 'none';\n",
              "\n",
              "        async function convertToInteractive(key) {\n",
              "          const element = document.querySelector('#df-b091ca4b-06eb-4368-888f-2877af7fd107');\n",
              "          const dataTable =\n",
              "            await google.colab.kernel.invokeFunction('convertToInteractive',\n",
              "                                                     [key], {});\n",
              "          if (!dataTable) return;\n",
              "\n",
              "          const docLinkHtml = 'Like what you see? Visit the ' +\n",
              "            '<a target=\"_blank\" href=https://colab.research.google.com/notebooks/data_table.ipynb>data table notebook</a>'\n",
              "            + ' to learn more about interactive tables.';\n",
              "          element.innerHTML = '';\n",
              "          dataTable['output_type'] = 'display_data';\n",
              "          await google.colab.output.renderOutput(dataTable, element);\n",
              "          const docLink = document.createElement('div');\n",
              "          docLink.innerHTML = docLinkHtml;\n",
              "          element.appendChild(docLink);\n",
              "        }\n",
              "      </script>\n",
              "    </div>\n",
              "  </div>\n",
              "  "
            ]
          },
          "metadata": {},
          "execution_count": 618
        }
      ]
    },
    {
      "cell_type": "code",
      "source": [
        "rfc_model.predict_proba(X_test)[:, 1] >0.5"
      ],
      "metadata": {
        "colab": {
          "base_uri": "https://localhost:8080/"
        },
        "id": "V9oAKtsrAcLk",
        "outputId": "ca3b4f61-ccc1-4e5f-8de9-1d2d3d296608"
      },
      "execution_count": 619,
      "outputs": [
        {
          "output_type": "execute_result",
          "data": {
            "text/plain": [
              "array([ True, False,  True, ...,  True, False,  True])"
            ]
          },
          "metadata": {},
          "execution_count": 619
        }
      ]
    },
    {
      "cell_type": "code",
      "source": [
        "X_test['Transported'] = rfc_model.predict_proba(X_test)[:, 1] > 0.5"
      ],
      "metadata": {
        "id": "NqIiY5LI-eEU"
      },
      "execution_count": 620,
      "outputs": []
    },
    {
      "cell_type": "code",
      "source": [
        "X_test[['PassengerId', 'Transported']].to_csv('submit_file.csv', index=False)\n",
        "X_test[['PassengerId', 'Transported']].head()"
      ],
      "metadata": {
        "colab": {
          "base_uri": "https://localhost:8080/",
          "height": 206
        },
        "id": "2f1WNIEG-eBj",
        "outputId": "c456d037-ffdd-4d4c-b4b0-16156c3b4a9e"
      },
      "execution_count": 621,
      "outputs": [
        {
          "output_type": "execute_result",
          "data": {
            "text/plain": [
              "  PassengerId  Transported\n",
              "0     0013_01         True\n",
              "1     0018_01        False\n",
              "2     0019_01         True\n",
              "3     0021_01        False\n",
              "4     0023_01        False"
            ],
            "text/html": [
              "\n",
              "  <div id=\"df-2153e3eb-72a5-4a77-a6e5-633e0e85b3a8\">\n",
              "    <div class=\"colab-df-container\">\n",
              "      <div>\n",
              "<style scoped>\n",
              "    .dataframe tbody tr th:only-of-type {\n",
              "        vertical-align: middle;\n",
              "    }\n",
              "\n",
              "    .dataframe tbody tr th {\n",
              "        vertical-align: top;\n",
              "    }\n",
              "\n",
              "    .dataframe thead th {\n",
              "        text-align: right;\n",
              "    }\n",
              "</style>\n",
              "<table border=\"1\" class=\"dataframe\">\n",
              "  <thead>\n",
              "    <tr style=\"text-align: right;\">\n",
              "      <th></th>\n",
              "      <th>PassengerId</th>\n",
              "      <th>Transported</th>\n",
              "    </tr>\n",
              "  </thead>\n",
              "  <tbody>\n",
              "    <tr>\n",
              "      <th>0</th>\n",
              "      <td>0013_01</td>\n",
              "      <td>True</td>\n",
              "    </tr>\n",
              "    <tr>\n",
              "      <th>1</th>\n",
              "      <td>0018_01</td>\n",
              "      <td>False</td>\n",
              "    </tr>\n",
              "    <tr>\n",
              "      <th>2</th>\n",
              "      <td>0019_01</td>\n",
              "      <td>True</td>\n",
              "    </tr>\n",
              "    <tr>\n",
              "      <th>3</th>\n",
              "      <td>0021_01</td>\n",
              "      <td>False</td>\n",
              "    </tr>\n",
              "    <tr>\n",
              "      <th>4</th>\n",
              "      <td>0023_01</td>\n",
              "      <td>False</td>\n",
              "    </tr>\n",
              "  </tbody>\n",
              "</table>\n",
              "</div>\n",
              "      <button class=\"colab-df-convert\" onclick=\"convertToInteractive('df-2153e3eb-72a5-4a77-a6e5-633e0e85b3a8')\"\n",
              "              title=\"Convert this dataframe to an interactive table.\"\n",
              "              style=\"display:none;\">\n",
              "        \n",
              "  <svg xmlns=\"http://www.w3.org/2000/svg\" height=\"24px\"viewBox=\"0 0 24 24\"\n",
              "       width=\"24px\">\n",
              "    <path d=\"M0 0h24v24H0V0z\" fill=\"none\"/>\n",
              "    <path d=\"M18.56 5.44l.94 2.06.94-2.06 2.06-.94-2.06-.94-.94-2.06-.94 2.06-2.06.94zm-11 1L8.5 8.5l.94-2.06 2.06-.94-2.06-.94L8.5 2.5l-.94 2.06-2.06.94zm10 10l.94 2.06.94-2.06 2.06-.94-2.06-.94-.94-2.06-.94 2.06-2.06.94z\"/><path d=\"M17.41 7.96l-1.37-1.37c-.4-.4-.92-.59-1.43-.59-.52 0-1.04.2-1.43.59L10.3 9.45l-7.72 7.72c-.78.78-.78 2.05 0 2.83L4 21.41c.39.39.9.59 1.41.59.51 0 1.02-.2 1.41-.59l7.78-7.78 2.81-2.81c.8-.78.8-2.07 0-2.86zM5.41 20L4 18.59l7.72-7.72 1.47 1.35L5.41 20z\"/>\n",
              "  </svg>\n",
              "      </button>\n",
              "      \n",
              "  <style>\n",
              "    .colab-df-container {\n",
              "      display:flex;\n",
              "      flex-wrap:wrap;\n",
              "      gap: 12px;\n",
              "    }\n",
              "\n",
              "    .colab-df-convert {\n",
              "      background-color: #E8F0FE;\n",
              "      border: none;\n",
              "      border-radius: 50%;\n",
              "      cursor: pointer;\n",
              "      display: none;\n",
              "      fill: #1967D2;\n",
              "      height: 32px;\n",
              "      padding: 0 0 0 0;\n",
              "      width: 32px;\n",
              "    }\n",
              "\n",
              "    .colab-df-convert:hover {\n",
              "      background-color: #E2EBFA;\n",
              "      box-shadow: 0px 1px 2px rgba(60, 64, 67, 0.3), 0px 1px 3px 1px rgba(60, 64, 67, 0.15);\n",
              "      fill: #174EA6;\n",
              "    }\n",
              "\n",
              "    [theme=dark] .colab-df-convert {\n",
              "      background-color: #3B4455;\n",
              "      fill: #D2E3FC;\n",
              "    }\n",
              "\n",
              "    [theme=dark] .colab-df-convert:hover {\n",
              "      background-color: #434B5C;\n",
              "      box-shadow: 0px 1px 3px 1px rgba(0, 0, 0, 0.15);\n",
              "      filter: drop-shadow(0px 1px 2px rgba(0, 0, 0, 0.3));\n",
              "      fill: #FFFFFF;\n",
              "    }\n",
              "  </style>\n",
              "\n",
              "      <script>\n",
              "        const buttonEl =\n",
              "          document.querySelector('#df-2153e3eb-72a5-4a77-a6e5-633e0e85b3a8 button.colab-df-convert');\n",
              "        buttonEl.style.display =\n",
              "          google.colab.kernel.accessAllowed ? 'block' : 'none';\n",
              "\n",
              "        async function convertToInteractive(key) {\n",
              "          const element = document.querySelector('#df-2153e3eb-72a5-4a77-a6e5-633e0e85b3a8');\n",
              "          const dataTable =\n",
              "            await google.colab.kernel.invokeFunction('convertToInteractive',\n",
              "                                                     [key], {});\n",
              "          if (!dataTable) return;\n",
              "\n",
              "          const docLinkHtml = 'Like what you see? Visit the ' +\n",
              "            '<a target=\"_blank\" href=https://colab.research.google.com/notebooks/data_table.ipynb>data table notebook</a>'\n",
              "            + ' to learn more about interactive tables.';\n",
              "          element.innerHTML = '';\n",
              "          dataTable['output_type'] = 'display_data';\n",
              "          await google.colab.output.renderOutput(dataTable, element);\n",
              "          const docLink = document.createElement('div');\n",
              "          docLink.innerHTML = docLinkHtml;\n",
              "          element.appendChild(docLink);\n",
              "        }\n",
              "      </script>\n",
              "    </div>\n",
              "  </div>\n",
              "  "
            ]
          },
          "metadata": {},
          "execution_count": 621
        }
      ]
    },
    {
      "cell_type": "code",
      "source": [
        ""
      ],
      "metadata": {
        "id": "_5pi8bOKEzvr"
      },
      "execution_count": null,
      "outputs": []
    }
  ]
}